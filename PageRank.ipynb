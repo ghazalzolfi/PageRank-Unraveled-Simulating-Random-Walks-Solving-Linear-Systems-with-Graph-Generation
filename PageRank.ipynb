{
  "cells": [
    {
      "cell_type": "markdown",
      "metadata": {
        "id": "C7Osn8gpacY9"
      },
      "source": [
        "In this section, we will implement the Google PageRank algorithm using two different approaches. First, we will view it as a Markov process, simulating the random walk behavior of a user moving between webpages. Then, we will take a more deterministic approach by solving the problem using matrix factorization, which involves setting up and solving a system of linear equations.\n",
        "\n",
        "We will also explain why both methods ultimately produce the same ranking after convergence.\n",
        "\n",
        "Before diving into the PageRank computation, we will generate a graph represented by an adjacency matrix for a directed graph. In this graph, each outgoing link from a node represents a hyperlink from the current webpage to another webpage, and each incoming edge to a node represents a hyperlink from another webpage to the current one."
      ]
    },
    {
      "cell_type": "code",
      "source": [
        "name = \"Ghazal Zolfi Moselo\"\n",
        "student_id = \"401104146\""
      ],
      "metadata": {
        "id": "UuvPIBuQbVyK"
      },
      "execution_count": 1,
      "outputs": []
    },
    {
      "cell_type": "code",
      "execution_count": 3,
      "metadata": {
        "id": "xEeZF7ilacY-"
      },
      "outputs": [],
      "source": [
        "''' import libraries '''\n",
        "\n",
        "import networkx as nx\n",
        "import numpy as np\n",
        "import plotly.graph_objects as go"
      ]
    },
    {
      "cell_type": "code",
      "execution_count": 4,
      "metadata": {
        "id": "0upFkU_PacY_",
        "colab": {
          "base_uri": "https://localhost:8080/"
        },
        "outputId": "e3e5ebc7-b2ae-45fb-dd26-dc8411a34ce4"
      },
      "outputs": [
        {
          "output_type": "execute_result",
          "data": {
            "text/plain": [
              "array([[0., 0., 0., 1., 1., 1., 0., 0., 0., 0.],\n",
              "       [0., 0., 1., 0., 0., 0., 0., 0., 1., 0.],\n",
              "       [0., 0., 0., 1., 0., 0., 0., 0., 1., 0.],\n",
              "       [1., 0., 1., 0., 0., 0., 1., 0., 0., 1.],\n",
              "       [0., 0., 1., 0., 0., 1., 0., 0., 0., 0.],\n",
              "       [0., 0., 0., 1., 1., 0., 0., 1., 1., 0.],\n",
              "       [0., 0., 1., 0., 0., 0., 0., 0., 1., 0.],\n",
              "       [0., 0., 0., 1., 1., 1., 0., 0., 1., 1.],\n",
              "       [0., 0., 0., 0., 0., 0., 0., 1., 0., 0.],\n",
              "       [0., 0., 0., 0., 0., 0., 1., 0., 0., 0.]])"
            ]
          },
          "metadata": {},
          "execution_count": 4
        }
      ],
      "source": [
        "''' generate adjacency matrix '''\n",
        "\n",
        "def generateADJ(n = 10, density = 0.3):\n",
        "    \"\"\"\n",
        "    Generate an n×n adjacency matrix where the\n",
        "    ratio of ones to n^2 is approximately equal\n",
        "    to the specified density parameter.\n",
        "    \"\"\"\n",
        "    adj_matrix = np.zeros((n, n))\n",
        "\n",
        "    num_edges = int(density * n * n)\n",
        "    indices = np.random.choice(n * n, num_edges, replace=False)\n",
        "    np.put(adj_matrix, indices, 1)\n",
        "    np.fill_diagonal(adj_matrix, 0)\n",
        "\n",
        "    return adj_matrix\n",
        "\n",
        "adj = generateADJ()\n",
        "adj"
      ]
    },
    {
      "cell_type": "code",
      "execution_count": 5,
      "metadata": {
        "id": "f-pnaePsacZA",
        "outputId": "b5d23750-74c3-4354-c50c-a9c5987f3452",
        "colab": {
          "base_uri": "https://localhost:8080/"
        }
      },
      "outputs": [
        {
          "output_type": "execute_result",
          "data": {
            "text/plain": [
              "<networkx.classes.digraph.DiGraph at 0x78a7d16f4910>"
            ]
          },
          "metadata": {},
          "execution_count": 5
        }
      ],
      "source": [
        "''' construct the graph using nx '''\n",
        "\n",
        "def create_graph(adj):\n",
        "    \"\"\"\n",
        "    Constructs a directed graph from the given adjacency matrix.\n",
        "    \"\"\"\n",
        "    G = nx.DiGraph()\n",
        "    num_nodes = adj.shape[0]\n",
        "    G.add_nodes_from(range(num_nodes))\n",
        "\n",
        "    for i in range(num_nodes):\n",
        "        for j in range(num_nodes):\n",
        "            if adj[i, j] == 1:\n",
        "                G.add_edge(i, j)\n",
        "    return G\n",
        "\n",
        "graph = create_graph(adj)\n",
        "graph"
      ]
    },
    {
      "cell_type": "code",
      "execution_count": 6,
      "metadata": {
        "id": "6SJRZoEbacZA",
        "outputId": "5fd825cb-c3f8-4e81-972e-ccdd1333bbc2",
        "colab": {
          "base_uri": "https://localhost:8080/",
          "height": 1000
        }
      },
      "outputs": [
        {
          "output_type": "display_data",
          "data": {
            "text/html": [
              "<html>\n",
              "<head><meta charset=\"utf-8\" /></head>\n",
              "<body>\n",
              "    <div>            <script src=\"https://cdnjs.cloudflare.com/ajax/libs/mathjax/2.7.5/MathJax.js?config=TeX-AMS-MML_SVG\"></script><script type=\"text/javascript\">if (window.MathJax && window.MathJax.Hub && window.MathJax.Hub.Config) {window.MathJax.Hub.Config({SVG: {font: \"STIX-Web\"}});}</script>                <script type=\"text/javascript\">window.PlotlyConfig = {MathJaxConfig: 'local'};</script>\n",
              "        <script charset=\"utf-8\" src=\"https://cdn.plot.ly/plotly-2.35.2.min.js\"></script>                <div id=\"1310c1be-4c57-45ef-ab94-b8849203932d\" class=\"plotly-graph-div\" style=\"height:525px; width:100%;\"></div>            <script type=\"text/javascript\">                                    window.PLOTLYENV=window.PLOTLYENV || {};                                    if (document.getElementById(\"1310c1be-4c57-45ef-ab94-b8849203932d\")) {                    Plotly.newPlot(                        \"1310c1be-4c57-45ef-ab94-b8849203932d\",                        [{\"hoverinfo\":\"none\",\"line\":{\"color\":\"black\",\"width\":1},\"mode\":\"lines\",\"x\":[0.49280293872165615,0.5819005596437867,null,0.49280293872165615,-0.41011331407350204,null,0.49280293872165615,0.08055355372840142,null,-0.32289985695893986,-0.37392948641028173,null,-0.32289985695893986,-0.7773178740649244,null,-0.37392948641028173,0.5819005596437867,null,-0.37392948641028173,-0.7773178740649244,null,0.5819005596437867,0.49280293872165615,null,0.5819005596437867,-0.37392948641028173,null,0.5819005596437867,-0.11027245133337342,null,0.5819005596437867,0.663768726545127,null,-0.41011331407350204,-0.37392948641028173,null,-0.41011331407350204,0.08055355372840142,null,0.08055355372840142,0.5819005596437867,null,0.08055355372840142,-0.41011331407350204,null,0.08055355372840142,0.17550720420205157,null,0.08055355372840142,-0.7773178740649244,null,-0.11027245133337342,-0.37392948641028173,null,-0.11027245133337342,-0.7773178740649244,null,0.17550720420205157,0.5819005596437867,null,0.17550720420205157,-0.41011331407350204,null,0.17550720420205157,0.08055355372840142,null,0.17550720420205157,-0.7773178740649244,null,0.17550720420205157,0.663768726545127,null,-0.7773178740649244,0.17550720420205157,null,0.663768726545127,-0.11027245133337342,null],\"y\":[0.6889151570001888,-0.21663154453534728,null,0.6889151570001888,0.6799306961967194,null,0.6889151570001888,0.39018025103424436,null,0.3968932406397607,-0.4443537199671442,null,0.3968932406397607,0.013328308098415778,null,-0.4443537199671442,-0.21663154453534728,null,-0.4443537199671442,0.013328308098415778,null,-0.21663154453534728,0.6889151570001888,null,-0.21663154453534728,-0.4443537199671442,null,-0.21663154453534728,-0.47778071539318107,null,-0.21663154453534728,-1.0,null,0.6799306961967194,-0.4443537199671442,null,0.6799306961967194,0.39018025103424436,null,0.39018025103424436,-0.21663154453534728,null,0.39018025103424436,0.6799306961967194,null,0.39018025103424436,-0.030481673073655575,null,0.39018025103424436,0.013328308098415778,null,-0.47778071539318107,-0.4443537199671442,null,-0.47778071539318107,0.013328308098415778,null,-0.030481673073655575,-0.21663154453534728,null,-0.030481673073655575,0.6799306961967194,null,-0.030481673073655575,0.39018025103424436,null,-0.030481673073655575,0.013328308098415778,null,-0.030481673073655575,-1.0,null,0.013328308098415778,-0.030481673073655575,null,-1.0,-0.47778071539318107,null],\"type\":\"scatter\"},{\"hoverinfo\":\"none\",\"marker\":{\"angle\":-90,\"color\":\"black\",\"size\":8,\"symbol\":\"triangle-up\"},\"mode\":\"markers\",\"x\":[0.5373517491827214,0.04134481232407705,0.2866782462250288,-0.3484146716846108,-0.5501088655119322,0.1039855366167525,-0.575623680237603,0.5373517491827214,0.1039855366167525,0.23581405415520665,0.6228346430944569,-0.3920214002418919,-0.1647798801725503,0.3312270566860941,-0.1647798801725503,0.1280303789652265,-0.34838216016826146,-0.24210096887182758,-0.44379516269914887,0.37870388192291915,-0.11730305493572524,0.1280303789652265,-0.3009053349314364,0.4196379653735893,-0.3009053349314364,0.2767481376058768],\"y\":[0.23614180623242076,0.684422926598454,0.5395477040172165,-0.023730239663691727,0.20511077436908826,-0.3304926322512457,-0.2155127059343642,0.23614180623242076,-0.3304926322512457,-0.34720612996426414,-0.6083157722676736,0.11778848811478762,0.5350554736154819,0.08677435324944854,0.5350554736154819,0.1798492889802944,0.20175427956633007,-0.4610672176801626,-0.23222620364738264,-0.12355660880450142,0.3247245115615319,0.1798492889802944,-0.008576682487619898,-0.5152408365368278,-0.008576682487619898,-0.7388903576965905],\"type\":\"scatter\"},{\"hoverinfo\":\"text\",\"marker\":{\"color\":[0.0425168059198347,0.015000000000000003,0.12554321034792046,0.12949081862956055,0.07613582752036031,0.08947926888742878,0.10422074365583944,0.17690873058170248,0.16811287135386818,0.07259172310348536],\"colorbar\":{\"thickness\":15,\"title\":{\"side\":\"right\",\"text\":\"PageRank Value\"},\"xanchor\":\"left\"},\"colorscale\":[[0.0,\"rgb(255,255,217)\"],[0.125,\"rgb(237,248,177)\"],[0.25,\"rgb(199,233,180)\"],[0.375,\"rgb(127,205,187)\"],[0.5,\"rgb(65,182,196)\"],[0.625,\"rgb(29,145,192)\"],[0.75,\"rgb(34,94,168)\"],[0.875,\"rgb(37,52,148)\"],[1.0,\"rgb(8,29,88)\"]],\"line\":{\"width\":2},\"showscale\":true,\"size\":20},\"mode\":\"markers\",\"text\":[\"Page 0 - PageRank: 0.043\",\"Page 1 - PageRank: 0.015\",\"Page 2 - PageRank: 0.126\",\"Page 3 - PageRank: 0.129\",\"Page 4 - PageRank: 0.076\",\"Page 5 - PageRank: 0.089\",\"Page 6 - PageRank: 0.104\",\"Page 7 - PageRank: 0.177\",\"Page 8 - PageRank: 0.168\",\"Page 9 - PageRank: 0.073\"],\"x\":[0.49280293872165615,-0.32289985695893986,-0.37392948641028173,0.5819005596437867,-0.41011331407350204,0.08055355372840142,-0.11027245133337342,0.17550720420205157,-0.7773178740649244,0.663768726545127],\"y\":[0.6889151570001888,0.3968932406397607,-0.4443537199671442,-0.21663154453534728,0.6799306961967194,0.39018025103424436,-0.47778071539318107,-0.030481673073655575,0.013328308098415778,-1.0],\"type\":\"scatter\"}],                        {\"annotations\":[{\"showarrow\":false,\"text\":\"Directed graph representing webpage linkages\",\"x\":0.005,\"xref\":\"paper\",\"y\":-0.002,\"yref\":\"paper\"}],\"hovermode\":\"closest\",\"margin\":{\"b\":0,\"l\":0,\"r\":0,\"t\":40},\"showlegend\":false,\"title\":{\"font\":{\"size\":16},\"text\":\"Webpage Linkage Graph (PageRank Visualization)\"},\"xaxis\":{\"showgrid\":false,\"zeroline\":false},\"yaxis\":{\"showgrid\":false,\"zeroline\":false},\"template\":{\"data\":{\"histogram2dcontour\":[{\"type\":\"histogram2dcontour\",\"colorbar\":{\"outlinewidth\":0,\"ticks\":\"\"},\"colorscale\":[[0.0,\"#0d0887\"],[0.1111111111111111,\"#46039f\"],[0.2222222222222222,\"#7201a8\"],[0.3333333333333333,\"#9c179e\"],[0.4444444444444444,\"#bd3786\"],[0.5555555555555556,\"#d8576b\"],[0.6666666666666666,\"#ed7953\"],[0.7777777777777778,\"#fb9f3a\"],[0.8888888888888888,\"#fdca26\"],[1.0,\"#f0f921\"]]}],\"choropleth\":[{\"type\":\"choropleth\",\"colorbar\":{\"outlinewidth\":0,\"ticks\":\"\"}}],\"histogram2d\":[{\"type\":\"histogram2d\",\"colorbar\":{\"outlinewidth\":0,\"ticks\":\"\"},\"colorscale\":[[0.0,\"#0d0887\"],[0.1111111111111111,\"#46039f\"],[0.2222222222222222,\"#7201a8\"],[0.3333333333333333,\"#9c179e\"],[0.4444444444444444,\"#bd3786\"],[0.5555555555555556,\"#d8576b\"],[0.6666666666666666,\"#ed7953\"],[0.7777777777777778,\"#fb9f3a\"],[0.8888888888888888,\"#fdca26\"],[1.0,\"#f0f921\"]]}],\"heatmap\":[{\"type\":\"heatmap\",\"colorbar\":{\"outlinewidth\":0,\"ticks\":\"\"},\"colorscale\":[[0.0,\"#0d0887\"],[0.1111111111111111,\"#46039f\"],[0.2222222222222222,\"#7201a8\"],[0.3333333333333333,\"#9c179e\"],[0.4444444444444444,\"#bd3786\"],[0.5555555555555556,\"#d8576b\"],[0.6666666666666666,\"#ed7953\"],[0.7777777777777778,\"#fb9f3a\"],[0.8888888888888888,\"#fdca26\"],[1.0,\"#f0f921\"]]}],\"heatmapgl\":[{\"type\":\"heatmapgl\",\"colorbar\":{\"outlinewidth\":0,\"ticks\":\"\"},\"colorscale\":[[0.0,\"#0d0887\"],[0.1111111111111111,\"#46039f\"],[0.2222222222222222,\"#7201a8\"],[0.3333333333333333,\"#9c179e\"],[0.4444444444444444,\"#bd3786\"],[0.5555555555555556,\"#d8576b\"],[0.6666666666666666,\"#ed7953\"],[0.7777777777777778,\"#fb9f3a\"],[0.8888888888888888,\"#fdca26\"],[1.0,\"#f0f921\"]]}],\"contourcarpet\":[{\"type\":\"contourcarpet\",\"colorbar\":{\"outlinewidth\":0,\"ticks\":\"\"}}],\"contour\":[{\"type\":\"contour\",\"colorbar\":{\"outlinewidth\":0,\"ticks\":\"\"},\"colorscale\":[[0.0,\"#0d0887\"],[0.1111111111111111,\"#46039f\"],[0.2222222222222222,\"#7201a8\"],[0.3333333333333333,\"#9c179e\"],[0.4444444444444444,\"#bd3786\"],[0.5555555555555556,\"#d8576b\"],[0.6666666666666666,\"#ed7953\"],[0.7777777777777778,\"#fb9f3a\"],[0.8888888888888888,\"#fdca26\"],[1.0,\"#f0f921\"]]}],\"surface\":[{\"type\":\"surface\",\"colorbar\":{\"outlinewidth\":0,\"ticks\":\"\"},\"colorscale\":[[0.0,\"#0d0887\"],[0.1111111111111111,\"#46039f\"],[0.2222222222222222,\"#7201a8\"],[0.3333333333333333,\"#9c179e\"],[0.4444444444444444,\"#bd3786\"],[0.5555555555555556,\"#d8576b\"],[0.6666666666666666,\"#ed7953\"],[0.7777777777777778,\"#fb9f3a\"],[0.8888888888888888,\"#fdca26\"],[1.0,\"#f0f921\"]]}],\"mesh3d\":[{\"type\":\"mesh3d\",\"colorbar\":{\"outlinewidth\":0,\"ticks\":\"\"}}],\"scatter\":[{\"fillpattern\":{\"fillmode\":\"overlay\",\"size\":10,\"solidity\":0.2},\"type\":\"scatter\"}],\"parcoords\":[{\"type\":\"parcoords\",\"line\":{\"colorbar\":{\"outlinewidth\":0,\"ticks\":\"\"}}}],\"scatterpolargl\":[{\"type\":\"scatterpolargl\",\"marker\":{\"colorbar\":{\"outlinewidth\":0,\"ticks\":\"\"}}}],\"bar\":[{\"error_x\":{\"color\":\"#2a3f5f\"},\"error_y\":{\"color\":\"#2a3f5f\"},\"marker\":{\"line\":{\"color\":\"#E5ECF6\",\"width\":0.5},\"pattern\":{\"fillmode\":\"overlay\",\"size\":10,\"solidity\":0.2}},\"type\":\"bar\"}],\"scattergeo\":[{\"type\":\"scattergeo\",\"marker\":{\"colorbar\":{\"outlinewidth\":0,\"ticks\":\"\"}}}],\"scatterpolar\":[{\"type\":\"scatterpolar\",\"marker\":{\"colorbar\":{\"outlinewidth\":0,\"ticks\":\"\"}}}],\"histogram\":[{\"marker\":{\"pattern\":{\"fillmode\":\"overlay\",\"size\":10,\"solidity\":0.2}},\"type\":\"histogram\"}],\"scattergl\":[{\"type\":\"scattergl\",\"marker\":{\"colorbar\":{\"outlinewidth\":0,\"ticks\":\"\"}}}],\"scatter3d\":[{\"type\":\"scatter3d\",\"line\":{\"colorbar\":{\"outlinewidth\":0,\"ticks\":\"\"}},\"marker\":{\"colorbar\":{\"outlinewidth\":0,\"ticks\":\"\"}}}],\"scattermapbox\":[{\"type\":\"scattermapbox\",\"marker\":{\"colorbar\":{\"outlinewidth\":0,\"ticks\":\"\"}}}],\"scatterternary\":[{\"type\":\"scatterternary\",\"marker\":{\"colorbar\":{\"outlinewidth\":0,\"ticks\":\"\"}}}],\"scattercarpet\":[{\"type\":\"scattercarpet\",\"marker\":{\"colorbar\":{\"outlinewidth\":0,\"ticks\":\"\"}}}],\"carpet\":[{\"aaxis\":{\"endlinecolor\":\"#2a3f5f\",\"gridcolor\":\"white\",\"linecolor\":\"white\",\"minorgridcolor\":\"white\",\"startlinecolor\":\"#2a3f5f\"},\"baxis\":{\"endlinecolor\":\"#2a3f5f\",\"gridcolor\":\"white\",\"linecolor\":\"white\",\"minorgridcolor\":\"white\",\"startlinecolor\":\"#2a3f5f\"},\"type\":\"carpet\"}],\"table\":[{\"cells\":{\"fill\":{\"color\":\"#EBF0F8\"},\"line\":{\"color\":\"white\"}},\"header\":{\"fill\":{\"color\":\"#C8D4E3\"},\"line\":{\"color\":\"white\"}},\"type\":\"table\"}],\"barpolar\":[{\"marker\":{\"line\":{\"color\":\"#E5ECF6\",\"width\":0.5},\"pattern\":{\"fillmode\":\"overlay\",\"size\":10,\"solidity\":0.2}},\"type\":\"barpolar\"}],\"pie\":[{\"automargin\":true,\"type\":\"pie\"}]},\"layout\":{\"autotypenumbers\":\"strict\",\"colorway\":[\"#636efa\",\"#EF553B\",\"#00cc96\",\"#ab63fa\",\"#FFA15A\",\"#19d3f3\",\"#FF6692\",\"#B6E880\",\"#FF97FF\",\"#FECB52\"],\"font\":{\"color\":\"#2a3f5f\"},\"hovermode\":\"closest\",\"hoverlabel\":{\"align\":\"left\"},\"paper_bgcolor\":\"white\",\"plot_bgcolor\":\"#E5ECF6\",\"polar\":{\"bgcolor\":\"#E5ECF6\",\"angularaxis\":{\"gridcolor\":\"white\",\"linecolor\":\"white\",\"ticks\":\"\"},\"radialaxis\":{\"gridcolor\":\"white\",\"linecolor\":\"white\",\"ticks\":\"\"}},\"ternary\":{\"bgcolor\":\"#E5ECF6\",\"aaxis\":{\"gridcolor\":\"white\",\"linecolor\":\"white\",\"ticks\":\"\"},\"baxis\":{\"gridcolor\":\"white\",\"linecolor\":\"white\",\"ticks\":\"\"},\"caxis\":{\"gridcolor\":\"white\",\"linecolor\":\"white\",\"ticks\":\"\"}},\"coloraxis\":{\"colorbar\":{\"outlinewidth\":0,\"ticks\":\"\"}},\"colorscale\":{\"sequential\":[[0.0,\"#0d0887\"],[0.1111111111111111,\"#46039f\"],[0.2222222222222222,\"#7201a8\"],[0.3333333333333333,\"#9c179e\"],[0.4444444444444444,\"#bd3786\"],[0.5555555555555556,\"#d8576b\"],[0.6666666666666666,\"#ed7953\"],[0.7777777777777778,\"#fb9f3a\"],[0.8888888888888888,\"#fdca26\"],[1.0,\"#f0f921\"]],\"sequentialminus\":[[0.0,\"#0d0887\"],[0.1111111111111111,\"#46039f\"],[0.2222222222222222,\"#7201a8\"],[0.3333333333333333,\"#9c179e\"],[0.4444444444444444,\"#bd3786\"],[0.5555555555555556,\"#d8576b\"],[0.6666666666666666,\"#ed7953\"],[0.7777777777777778,\"#fb9f3a\"],[0.8888888888888888,\"#fdca26\"],[1.0,\"#f0f921\"]],\"diverging\":[[0,\"#8e0152\"],[0.1,\"#c51b7d\"],[0.2,\"#de77ae\"],[0.3,\"#f1b6da\"],[0.4,\"#fde0ef\"],[0.5,\"#f7f7f7\"],[0.6,\"#e6f5d0\"],[0.7,\"#b8e186\"],[0.8,\"#7fbc41\"],[0.9,\"#4d9221\"],[1,\"#276419\"]]},\"xaxis\":{\"gridcolor\":\"white\",\"linecolor\":\"white\",\"ticks\":\"\",\"title\":{\"standoff\":15},\"zerolinecolor\":\"white\",\"automargin\":true,\"zerolinewidth\":2},\"yaxis\":{\"gridcolor\":\"white\",\"linecolor\":\"white\",\"ticks\":\"\",\"title\":{\"standoff\":15},\"zerolinecolor\":\"white\",\"automargin\":true,\"zerolinewidth\":2},\"scene\":{\"xaxis\":{\"backgroundcolor\":\"#E5ECF6\",\"gridcolor\":\"white\",\"linecolor\":\"white\",\"showbackground\":true,\"ticks\":\"\",\"zerolinecolor\":\"white\",\"gridwidth\":2},\"yaxis\":{\"backgroundcolor\":\"#E5ECF6\",\"gridcolor\":\"white\",\"linecolor\":\"white\",\"showbackground\":true,\"ticks\":\"\",\"zerolinecolor\":\"white\",\"gridwidth\":2},\"zaxis\":{\"backgroundcolor\":\"#E5ECF6\",\"gridcolor\":\"white\",\"linecolor\":\"white\",\"showbackground\":true,\"ticks\":\"\",\"zerolinecolor\":\"white\",\"gridwidth\":2}},\"shapedefaults\":{\"line\":{\"color\":\"#2a3f5f\"}},\"annotationdefaults\":{\"arrowcolor\":\"#2a3f5f\",\"arrowhead\":0,\"arrowwidth\":1},\"geo\":{\"bgcolor\":\"white\",\"landcolor\":\"#E5ECF6\",\"subunitcolor\":\"white\",\"showland\":true,\"showlakes\":true,\"lakecolor\":\"white\"},\"title\":{\"x\":0.05},\"mapbox\":{\"style\":\"light\"}}}},                        {\"responsive\": true}                    ).then(function(){\n",
              "                            \n",
              "var gd = document.getElementById('1310c1be-4c57-45ef-ab94-b8849203932d');\n",
              "var x = new MutationObserver(function (mutations, observer) {{\n",
              "        var display = window.getComputedStyle(gd).display;\n",
              "        if (!display || display === 'none') {{\n",
              "            console.log([gd, 'removed!']);\n",
              "            Plotly.purge(gd);\n",
              "            observer.disconnect();\n",
              "        }}\n",
              "}});\n",
              "\n",
              "// Listen for the removal of the full notebook cells\n",
              "var notebookContainer = gd.closest('#notebook-container');\n",
              "if (notebookContainer) {{\n",
              "    x.observe(notebookContainer, {childList: true});\n",
              "}}\n",
              "\n",
              "// Listen for the clearing of the current output cell\n",
              "var outputEl = gd.closest('.output');\n",
              "if (outputEl) {{\n",
              "    x.observe(outputEl, {childList: true});\n",
              "}}\n",
              "\n",
              "                        })                };                            </script>        </div>\n",
              "</body>\n",
              "</html>"
            ]
          },
          "metadata": {}
        },
        {
          "output_type": "stream",
          "name": "stdout",
          "text": [
            "Actual pagerank values : {0: 0.0425168059198347, 1: 0.015000000000000003, 2: 0.12554321034792046, 3: 0.12949081862956055, 4: 0.07613582752036031, 5: 0.08947926888742878, 6: 0.10422074365583944, 7: 0.17690873058170248, 8: 0.16811287135386818, 9: 0.07259172310348536}\n"
          ]
        },
        {
          "output_type": "display_data",
          "data": {
            "text/html": [
              "<html>\n",
              "<head><meta charset=\"utf-8\" /></head>\n",
              "<body>\n",
              "    <div>            <script src=\"https://cdnjs.cloudflare.com/ajax/libs/mathjax/2.7.5/MathJax.js?config=TeX-AMS-MML_SVG\"></script><script type=\"text/javascript\">if (window.MathJax && window.MathJax.Hub && window.MathJax.Hub.Config) {window.MathJax.Hub.Config({SVG: {font: \"STIX-Web\"}});}</script>                <script type=\"text/javascript\">window.PlotlyConfig = {MathJaxConfig: 'local'};</script>\n",
              "        <script charset=\"utf-8\" src=\"https://cdn.plot.ly/plotly-2.35.2.min.js\"></script>                <div id=\"1323d99e-e351-4802-9842-248bbc0db9f2\" class=\"plotly-graph-div\" style=\"height:525px; width:100%;\"></div>            <script type=\"text/javascript\">                                    window.PLOTLYENV=window.PLOTLYENV || {};                                    if (document.getElementById(\"1323d99e-e351-4802-9842-248bbc0db9f2\")) {                    Plotly.newPlot(                        \"1323d99e-e351-4802-9842-248bbc0db9f2\",                        [{\"hoverinfo\":\"none\",\"line\":{\"color\":\"black\",\"width\":1},\"mode\":\"lines\",\"x\":[0.49280293872165615,0.5819005596437867,null,0.49280293872165615,-0.41011331407350204,null,0.49280293872165615,0.08055355372840142,null,-0.32289985695893986,-0.37392948641028173,null,-0.32289985695893986,-0.7773178740649244,null,-0.37392948641028173,0.5819005596437867,null,-0.37392948641028173,-0.7773178740649244,null,0.5819005596437867,0.49280293872165615,null,0.5819005596437867,-0.37392948641028173,null,0.5819005596437867,-0.11027245133337342,null,0.5819005596437867,0.663768726545127,null,-0.41011331407350204,-0.37392948641028173,null,-0.41011331407350204,0.08055355372840142,null,0.08055355372840142,0.5819005596437867,null,0.08055355372840142,-0.41011331407350204,null,0.08055355372840142,0.17550720420205157,null,0.08055355372840142,-0.7773178740649244,null,-0.11027245133337342,-0.37392948641028173,null,-0.11027245133337342,-0.7773178740649244,null,0.17550720420205157,0.5819005596437867,null,0.17550720420205157,-0.41011331407350204,null,0.17550720420205157,0.08055355372840142,null,0.17550720420205157,-0.7773178740649244,null,0.17550720420205157,0.663768726545127,null,-0.7773178740649244,0.17550720420205157,null,0.663768726545127,-0.11027245133337342,null],\"y\":[0.6889151570001888,-0.21663154453534728,null,0.6889151570001888,0.6799306961967194,null,0.6889151570001888,0.39018025103424436,null,0.3968932406397607,-0.4443537199671442,null,0.3968932406397607,0.013328308098415778,null,-0.4443537199671442,-0.21663154453534728,null,-0.4443537199671442,0.013328308098415778,null,-0.21663154453534728,0.6889151570001888,null,-0.21663154453534728,-0.4443537199671442,null,-0.21663154453534728,-0.47778071539318107,null,-0.21663154453534728,-1.0,null,0.6799306961967194,-0.4443537199671442,null,0.6799306961967194,0.39018025103424436,null,0.39018025103424436,-0.21663154453534728,null,0.39018025103424436,0.6799306961967194,null,0.39018025103424436,-0.030481673073655575,null,0.39018025103424436,0.013328308098415778,null,-0.47778071539318107,-0.4443537199671442,null,-0.47778071539318107,0.013328308098415778,null,-0.030481673073655575,-0.21663154453534728,null,-0.030481673073655575,0.6799306961967194,null,-0.030481673073655575,0.39018025103424436,null,-0.030481673073655575,0.013328308098415778,null,-0.030481673073655575,-1.0,null,0.013328308098415778,-0.030481673073655575,null,-1.0,-0.47778071539318107,null],\"type\":\"scatter\"},{\"hoverinfo\":\"none\",\"marker\":{\"angle\":-90,\"color\":\"black\",\"size\":8,\"symbol\":\"triangle-up\"},\"mode\":\"markers\",\"x\":[0.5373517491827214,0.04134481232407705,0.2866782462250288,-0.3484146716846108,-0.5501088655119322,0.1039855366167525,-0.575623680237603,0.5373517491827214,0.1039855366167525,0.23581405415520665,0.6228346430944569,-0.3920214002418919,-0.1647798801725503,0.3312270566860941,-0.1647798801725503,0.1280303789652265,-0.34838216016826146,-0.24210096887182758,-0.44379516269914887,0.37870388192291915,-0.11730305493572524,0.1280303789652265,-0.3009053349314364,0.4196379653735893,-0.3009053349314364,0.2767481376058768],\"y\":[0.23614180623242076,0.684422926598454,0.5395477040172165,-0.023730239663691727,0.20511077436908826,-0.3304926322512457,-0.2155127059343642,0.23614180623242076,-0.3304926322512457,-0.34720612996426414,-0.6083157722676736,0.11778848811478762,0.5350554736154819,0.08677435324944854,0.5350554736154819,0.1798492889802944,0.20175427956633007,-0.4610672176801626,-0.23222620364738264,-0.12355660880450142,0.3247245115615319,0.1798492889802944,-0.008576682487619898,-0.5152408365368278,-0.008576682487619898,-0.7388903576965905],\"type\":\"scatter\"},{\"hoverinfo\":\"text\",\"marker\":{\"color\":[0.1,0.1,0.1,0.1,0.1,0.1,0.1,0.1,0.1,0.1],\"colorbar\":{\"thickness\":15,\"title\":{\"side\":\"right\",\"text\":\"PageRank Value\"},\"xanchor\":\"left\"},\"colorscale\":[[0.0,\"rgb(255,255,217)\"],[0.125,\"rgb(237,248,177)\"],[0.25,\"rgb(199,233,180)\"],[0.375,\"rgb(127,205,187)\"],[0.5,\"rgb(65,182,196)\"],[0.625,\"rgb(29,145,192)\"],[0.75,\"rgb(34,94,168)\"],[0.875,\"rgb(37,52,148)\"],[1.0,\"rgb(8,29,88)\"]],\"line\":{\"width\":2},\"showscale\":true,\"size\":20},\"mode\":\"markers\",\"text\":[\"Page 0 - PageRank: 0.100\",\"Page 1 - PageRank: 0.100\",\"Page 2 - PageRank: 0.100\",\"Page 3 - PageRank: 0.100\",\"Page 4 - PageRank: 0.100\",\"Page 5 - PageRank: 0.100\",\"Page 6 - PageRank: 0.100\",\"Page 7 - PageRank: 0.100\",\"Page 8 - PageRank: 0.100\",\"Page 9 - PageRank: 0.100\"],\"x\":[0.49280293872165615,-0.32289985695893986,-0.37392948641028173,0.5819005596437867,-0.41011331407350204,0.08055355372840142,-0.11027245133337342,0.17550720420205157,-0.7773178740649244,0.663768726545127],\"y\":[0.6889151570001888,0.3968932406397607,-0.4443537199671442,-0.21663154453534728,0.6799306961967194,0.39018025103424436,-0.47778071539318107,-0.030481673073655575,0.013328308098415778,-1.0],\"type\":\"scatter\"}],                        {\"annotations\":[{\"showarrow\":false,\"text\":\"Directed graph representing webpage linkages\",\"x\":0.005,\"xref\":\"paper\",\"y\":-0.002,\"yref\":\"paper\"}],\"hovermode\":\"closest\",\"margin\":{\"b\":0,\"l\":0,\"r\":0,\"t\":40},\"showlegend\":false,\"title\":{\"font\":{\"size\":16},\"text\":\"Webpage Linkage Graph (PageRank Visualization)\"},\"xaxis\":{\"showgrid\":false,\"zeroline\":false},\"yaxis\":{\"showgrid\":false,\"zeroline\":false},\"template\":{\"data\":{\"histogram2dcontour\":[{\"type\":\"histogram2dcontour\",\"colorbar\":{\"outlinewidth\":0,\"ticks\":\"\"},\"colorscale\":[[0.0,\"#0d0887\"],[0.1111111111111111,\"#46039f\"],[0.2222222222222222,\"#7201a8\"],[0.3333333333333333,\"#9c179e\"],[0.4444444444444444,\"#bd3786\"],[0.5555555555555556,\"#d8576b\"],[0.6666666666666666,\"#ed7953\"],[0.7777777777777778,\"#fb9f3a\"],[0.8888888888888888,\"#fdca26\"],[1.0,\"#f0f921\"]]}],\"choropleth\":[{\"type\":\"choropleth\",\"colorbar\":{\"outlinewidth\":0,\"ticks\":\"\"}}],\"histogram2d\":[{\"type\":\"histogram2d\",\"colorbar\":{\"outlinewidth\":0,\"ticks\":\"\"},\"colorscale\":[[0.0,\"#0d0887\"],[0.1111111111111111,\"#46039f\"],[0.2222222222222222,\"#7201a8\"],[0.3333333333333333,\"#9c179e\"],[0.4444444444444444,\"#bd3786\"],[0.5555555555555556,\"#d8576b\"],[0.6666666666666666,\"#ed7953\"],[0.7777777777777778,\"#fb9f3a\"],[0.8888888888888888,\"#fdca26\"],[1.0,\"#f0f921\"]]}],\"heatmap\":[{\"type\":\"heatmap\",\"colorbar\":{\"outlinewidth\":0,\"ticks\":\"\"},\"colorscale\":[[0.0,\"#0d0887\"],[0.1111111111111111,\"#46039f\"],[0.2222222222222222,\"#7201a8\"],[0.3333333333333333,\"#9c179e\"],[0.4444444444444444,\"#bd3786\"],[0.5555555555555556,\"#d8576b\"],[0.6666666666666666,\"#ed7953\"],[0.7777777777777778,\"#fb9f3a\"],[0.8888888888888888,\"#fdca26\"],[1.0,\"#f0f921\"]]}],\"heatmapgl\":[{\"type\":\"heatmapgl\",\"colorbar\":{\"outlinewidth\":0,\"ticks\":\"\"},\"colorscale\":[[0.0,\"#0d0887\"],[0.1111111111111111,\"#46039f\"],[0.2222222222222222,\"#7201a8\"],[0.3333333333333333,\"#9c179e\"],[0.4444444444444444,\"#bd3786\"],[0.5555555555555556,\"#d8576b\"],[0.6666666666666666,\"#ed7953\"],[0.7777777777777778,\"#fb9f3a\"],[0.8888888888888888,\"#fdca26\"],[1.0,\"#f0f921\"]]}],\"contourcarpet\":[{\"type\":\"contourcarpet\",\"colorbar\":{\"outlinewidth\":0,\"ticks\":\"\"}}],\"contour\":[{\"type\":\"contour\",\"colorbar\":{\"outlinewidth\":0,\"ticks\":\"\"},\"colorscale\":[[0.0,\"#0d0887\"],[0.1111111111111111,\"#46039f\"],[0.2222222222222222,\"#7201a8\"],[0.3333333333333333,\"#9c179e\"],[0.4444444444444444,\"#bd3786\"],[0.5555555555555556,\"#d8576b\"],[0.6666666666666666,\"#ed7953\"],[0.7777777777777778,\"#fb9f3a\"],[0.8888888888888888,\"#fdca26\"],[1.0,\"#f0f921\"]]}],\"surface\":[{\"type\":\"surface\",\"colorbar\":{\"outlinewidth\":0,\"ticks\":\"\"},\"colorscale\":[[0.0,\"#0d0887\"],[0.1111111111111111,\"#46039f\"],[0.2222222222222222,\"#7201a8\"],[0.3333333333333333,\"#9c179e\"],[0.4444444444444444,\"#bd3786\"],[0.5555555555555556,\"#d8576b\"],[0.6666666666666666,\"#ed7953\"],[0.7777777777777778,\"#fb9f3a\"],[0.8888888888888888,\"#fdca26\"],[1.0,\"#f0f921\"]]}],\"mesh3d\":[{\"type\":\"mesh3d\",\"colorbar\":{\"outlinewidth\":0,\"ticks\":\"\"}}],\"scatter\":[{\"fillpattern\":{\"fillmode\":\"overlay\",\"size\":10,\"solidity\":0.2},\"type\":\"scatter\"}],\"parcoords\":[{\"type\":\"parcoords\",\"line\":{\"colorbar\":{\"outlinewidth\":0,\"ticks\":\"\"}}}],\"scatterpolargl\":[{\"type\":\"scatterpolargl\",\"marker\":{\"colorbar\":{\"outlinewidth\":0,\"ticks\":\"\"}}}],\"bar\":[{\"error_x\":{\"color\":\"#2a3f5f\"},\"error_y\":{\"color\":\"#2a3f5f\"},\"marker\":{\"line\":{\"color\":\"#E5ECF6\",\"width\":0.5},\"pattern\":{\"fillmode\":\"overlay\",\"size\":10,\"solidity\":0.2}},\"type\":\"bar\"}],\"scattergeo\":[{\"type\":\"scattergeo\",\"marker\":{\"colorbar\":{\"outlinewidth\":0,\"ticks\":\"\"}}}],\"scatterpolar\":[{\"type\":\"scatterpolar\",\"marker\":{\"colorbar\":{\"outlinewidth\":0,\"ticks\":\"\"}}}],\"histogram\":[{\"marker\":{\"pattern\":{\"fillmode\":\"overlay\",\"size\":10,\"solidity\":0.2}},\"type\":\"histogram\"}],\"scattergl\":[{\"type\":\"scattergl\",\"marker\":{\"colorbar\":{\"outlinewidth\":0,\"ticks\":\"\"}}}],\"scatter3d\":[{\"type\":\"scatter3d\",\"line\":{\"colorbar\":{\"outlinewidth\":0,\"ticks\":\"\"}},\"marker\":{\"colorbar\":{\"outlinewidth\":0,\"ticks\":\"\"}}}],\"scattermapbox\":[{\"type\":\"scattermapbox\",\"marker\":{\"colorbar\":{\"outlinewidth\":0,\"ticks\":\"\"}}}],\"scatterternary\":[{\"type\":\"scatterternary\",\"marker\":{\"colorbar\":{\"outlinewidth\":0,\"ticks\":\"\"}}}],\"scattercarpet\":[{\"type\":\"scattercarpet\",\"marker\":{\"colorbar\":{\"outlinewidth\":0,\"ticks\":\"\"}}}],\"carpet\":[{\"aaxis\":{\"endlinecolor\":\"#2a3f5f\",\"gridcolor\":\"white\",\"linecolor\":\"white\",\"minorgridcolor\":\"white\",\"startlinecolor\":\"#2a3f5f\"},\"baxis\":{\"endlinecolor\":\"#2a3f5f\",\"gridcolor\":\"white\",\"linecolor\":\"white\",\"minorgridcolor\":\"white\",\"startlinecolor\":\"#2a3f5f\"},\"type\":\"carpet\"}],\"table\":[{\"cells\":{\"fill\":{\"color\":\"#EBF0F8\"},\"line\":{\"color\":\"white\"}},\"header\":{\"fill\":{\"color\":\"#C8D4E3\"},\"line\":{\"color\":\"white\"}},\"type\":\"table\"}],\"barpolar\":[{\"marker\":{\"line\":{\"color\":\"#E5ECF6\",\"width\":0.5},\"pattern\":{\"fillmode\":\"overlay\",\"size\":10,\"solidity\":0.2}},\"type\":\"barpolar\"}],\"pie\":[{\"automargin\":true,\"type\":\"pie\"}]},\"layout\":{\"autotypenumbers\":\"strict\",\"colorway\":[\"#636efa\",\"#EF553B\",\"#00cc96\",\"#ab63fa\",\"#FFA15A\",\"#19d3f3\",\"#FF6692\",\"#B6E880\",\"#FF97FF\",\"#FECB52\"],\"font\":{\"color\":\"#2a3f5f\"},\"hovermode\":\"closest\",\"hoverlabel\":{\"align\":\"left\"},\"paper_bgcolor\":\"white\",\"plot_bgcolor\":\"#E5ECF6\",\"polar\":{\"bgcolor\":\"#E5ECF6\",\"angularaxis\":{\"gridcolor\":\"white\",\"linecolor\":\"white\",\"ticks\":\"\"},\"radialaxis\":{\"gridcolor\":\"white\",\"linecolor\":\"white\",\"ticks\":\"\"}},\"ternary\":{\"bgcolor\":\"#E5ECF6\",\"aaxis\":{\"gridcolor\":\"white\",\"linecolor\":\"white\",\"ticks\":\"\"},\"baxis\":{\"gridcolor\":\"white\",\"linecolor\":\"white\",\"ticks\":\"\"},\"caxis\":{\"gridcolor\":\"white\",\"linecolor\":\"white\",\"ticks\":\"\"}},\"coloraxis\":{\"colorbar\":{\"outlinewidth\":0,\"ticks\":\"\"}},\"colorscale\":{\"sequential\":[[0.0,\"#0d0887\"],[0.1111111111111111,\"#46039f\"],[0.2222222222222222,\"#7201a8\"],[0.3333333333333333,\"#9c179e\"],[0.4444444444444444,\"#bd3786\"],[0.5555555555555556,\"#d8576b\"],[0.6666666666666666,\"#ed7953\"],[0.7777777777777778,\"#fb9f3a\"],[0.8888888888888888,\"#fdca26\"],[1.0,\"#f0f921\"]],\"sequentialminus\":[[0.0,\"#0d0887\"],[0.1111111111111111,\"#46039f\"],[0.2222222222222222,\"#7201a8\"],[0.3333333333333333,\"#9c179e\"],[0.4444444444444444,\"#bd3786\"],[0.5555555555555556,\"#d8576b\"],[0.6666666666666666,\"#ed7953\"],[0.7777777777777778,\"#fb9f3a\"],[0.8888888888888888,\"#fdca26\"],[1.0,\"#f0f921\"]],\"diverging\":[[0,\"#8e0152\"],[0.1,\"#c51b7d\"],[0.2,\"#de77ae\"],[0.3,\"#f1b6da\"],[0.4,\"#fde0ef\"],[0.5,\"#f7f7f7\"],[0.6,\"#e6f5d0\"],[0.7,\"#b8e186\"],[0.8,\"#7fbc41\"],[0.9,\"#4d9221\"],[1,\"#276419\"]]},\"xaxis\":{\"gridcolor\":\"white\",\"linecolor\":\"white\",\"ticks\":\"\",\"title\":{\"standoff\":15},\"zerolinecolor\":\"white\",\"automargin\":true,\"zerolinewidth\":2},\"yaxis\":{\"gridcolor\":\"white\",\"linecolor\":\"white\",\"ticks\":\"\",\"title\":{\"standoff\":15},\"zerolinecolor\":\"white\",\"automargin\":true,\"zerolinewidth\":2},\"scene\":{\"xaxis\":{\"backgroundcolor\":\"#E5ECF6\",\"gridcolor\":\"white\",\"linecolor\":\"white\",\"showbackground\":true,\"ticks\":\"\",\"zerolinecolor\":\"white\",\"gridwidth\":2},\"yaxis\":{\"backgroundcolor\":\"#E5ECF6\",\"gridcolor\":\"white\",\"linecolor\":\"white\",\"showbackground\":true,\"ticks\":\"\",\"zerolinecolor\":\"white\",\"gridwidth\":2},\"zaxis\":{\"backgroundcolor\":\"#E5ECF6\",\"gridcolor\":\"white\",\"linecolor\":\"white\",\"showbackground\":true,\"ticks\":\"\",\"zerolinecolor\":\"white\",\"gridwidth\":2}},\"shapedefaults\":{\"line\":{\"color\":\"#2a3f5f\"}},\"annotationdefaults\":{\"arrowcolor\":\"#2a3f5f\",\"arrowhead\":0,\"arrowwidth\":1},\"geo\":{\"bgcolor\":\"white\",\"landcolor\":\"#E5ECF6\",\"subunitcolor\":\"white\",\"showland\":true,\"showlakes\":true,\"lakecolor\":\"white\"},\"title\":{\"x\":0.05},\"mapbox\":{\"style\":\"light\"}}}},                        {\"responsive\": true}                    ).then(function(){\n",
              "                            \n",
              "var gd = document.getElementById('1323d99e-e351-4802-9842-248bbc0db9f2');\n",
              "var x = new MutationObserver(function (mutations, observer) {{\n",
              "        var display = window.getComputedStyle(gd).display;\n",
              "        if (!display || display === 'none') {{\n",
              "            console.log([gd, 'removed!']);\n",
              "            Plotly.purge(gd);\n",
              "            observer.disconnect();\n",
              "        }}\n",
              "}});\n",
              "\n",
              "// Listen for the removal of the full notebook cells\n",
              "var notebookContainer = gd.closest('#notebook-container');\n",
              "if (notebookContainer) {{\n",
              "    x.observe(notebookContainer, {childList: true});\n",
              "}}\n",
              "\n",
              "// Listen for the clearing of the current output cell\n",
              "var outputEl = gd.closest('.output');\n",
              "if (outputEl) {{\n",
              "    x.observe(outputEl, {childList: true});\n",
              "}}\n",
              "\n",
              "                        })                };                            </script>        </div>\n",
              "</body>\n",
              "</html>"
            ]
          },
          "metadata": {}
        },
        {
          "output_type": "stream",
          "name": "stdout",
          "text": [
            "Values I found : {0: 0.1, 1: 0.1, 2: 0.1, 3: 0.1, 4: 0.1, 5: 0.1, 6: 0.1, 7: 0.1, 8: 0.1, 9: 0.1}\n"
          ]
        }
      ],
      "source": [
        "''' visualize your generated graph '''\n",
        "\n",
        "\"\"\"\n",
        "Just run this cell.\n",
        "Whenever you want to visualize the graph based on\n",
        "your current values, activate the test mine flag.\n",
        "\"\"\"\n",
        "\n",
        "\n",
        "def visualize_graph(G, testMine = False , myProbs = []):\n",
        "    pos = nx.spring_layout(G, seed=42)\n",
        "\n",
        "    edge_x = []\n",
        "    edge_y = []\n",
        "    arrow_x = []\n",
        "    arrow_y = []\n",
        "    for edge in G.edges():\n",
        "        x0, y0 = pos[edge[0]]\n",
        "        x1, y1 = pos[edge[1]]\n",
        "        edge_x.append(x0)\n",
        "        edge_x.append(x1)\n",
        "        edge_x.append(None)\n",
        "        edge_y.append(y0)\n",
        "        edge_y.append(y1)\n",
        "        edge_y.append(None)\n",
        "\n",
        "        arrow_x.append((x0 + x1) / 2)\n",
        "        arrow_y.append((y0 + y1) / 2)\n",
        "\n",
        "    edge_trace = go.Scatter(\n",
        "        x=edge_x, y=edge_y,\n",
        "        line=dict(width=1, color='black'),\n",
        "        hoverinfo='none',\n",
        "        mode='lines'\n",
        "    )\n",
        "\n",
        "    arrow_trace = go.Scatter(\n",
        "        x=arrow_x, y=arrow_y,\n",
        "        mode='markers',\n",
        "        marker=dict(\n",
        "            size=8,\n",
        "            color='black',\n",
        "            symbol='triangle-up',\n",
        "            angle=-90\n",
        "        ),\n",
        "        hoverinfo='none'\n",
        "    )\n",
        "\n",
        "    node_x = []\n",
        "    node_y = []\n",
        "    for node in G.nodes():\n",
        "        x, y = pos[node]\n",
        "        node_x.append(x)\n",
        "        node_y.append(y)\n",
        "\n",
        "    node_trace = go.Scatter(\n",
        "        x=node_x, y=node_y,\n",
        "        mode='markers',\n",
        "        hoverinfo='text',\n",
        "        marker=dict(\n",
        "            showscale=True,\n",
        "            colorscale='YlGnBu',\n",
        "            size=20,\n",
        "            color=[],\n",
        "            colorbar=dict(\n",
        "                thickness=15,\n",
        "                title='PageRank Value',\n",
        "                xanchor='left',\n",
        "                titleside='right'\n",
        "            ),\n",
        "            line_width=2))\n",
        "\n",
        "    node_color = []\n",
        "    node_text = []\n",
        "    pagerank_values = nx.pagerank(G)\n",
        "    for node in G.nodes():\n",
        "        if testMine:\n",
        "            node_color.append(myProbs[node])\n",
        "            node_text.append(f'Page {node} - PageRank: {myProbs[node]:.3f}')\n",
        "        else:\n",
        "            node_color.append(pagerank_values[node])\n",
        "            node_text.append(f'Page {node} - PageRank: {pagerank_values[node]:.3f}')\n",
        "\n",
        "    node_trace.marker.color = node_color\n",
        "    node_trace.text = node_text\n",
        "\n",
        "    fig = go.Figure(data=[edge_trace, arrow_trace,  node_trace],\n",
        "                    layout=go.Layout(\n",
        "                        title='Webpage Linkage Graph (PageRank Visualization)',\n",
        "                        titlefont_size=16,\n",
        "                        showlegend=False,\n",
        "                        hovermode='closest',\n",
        "                        margin=dict(b=0, l=0, r=0, t=40),\n",
        "                        annotations=[dict(\n",
        "                            text=\"Directed graph representing webpage linkages\",\n",
        "                            showarrow=False,\n",
        "                            xref=\"paper\", yref=\"paper\",\n",
        "                            x=0.005, y=-0.002)],\n",
        "                        xaxis=dict(showgrid=False, zeroline=False),\n",
        "                        yaxis=dict(showgrid=False, zeroline=False)))\n",
        "\n",
        "    fig.show()\n",
        "    return pagerank_values\n",
        "\n",
        "goalProbs = visualize_graph(graph)\n",
        "print(f'Actual pagerank values : {goalProbs}')\n",
        "myProbs = {key : 1/len(goalProbs) for key in goalProbs}\n",
        "visualize_graph(graph, testMine=True , myProbs=myProbs)\n",
        "print(f'Values I found : {myProbs}')"
      ]
    },
    {
      "cell_type": "markdown",
      "metadata": {
        "id": "xUqkio5TacZB"
      },
      "source": [
        "Repeat the 3 cells above as many times as necessary until you reach a graph you are happy with. Keep in mind, as you have seen, the plot is interactive, allowing you to see the names of the nodes and their assigned values. Additionally, there are two extra parameters passed to the function:\n",
        "\n",
        "1. The first parameter is for testing mode, which lets you view the ranking based on your current state values. If not in testing mode, the default is the true ranking value.\n",
        "   \n",
        "2. The second parameter is the dictionary you have prepared for your test.\n",
        "\n",
        "From here, we will explore a Markovian process to determine the stationary ranking we can reach by setting the convergence threshold. We start from uniformly distributed probabilities.\n"
      ]
    },
    {
      "cell_type": "markdown",
      "metadata": {
        "id": "zIj9TfIwacZB"
      },
      "source": [
        "In the transposed version of the adjacency matrix, column *i* indicates to which other nodes we can proceed. By normalizing the columns so that each sums up to one, we can observe the probability of transitioning from node *i* to node *j*. This means that, to determine the probability of moving from node *i* to node *j*, we look at column *i* and row *j*.\n",
        "\n",
        "When this matrix is multiplied by the current distribution of probabilities (the probability of being at each node, stored in `myProbs`), we get new probabilities. These represent the updated distribution after one iteration, according to the equation:\n",
        "\n",
        "$\n",
        "P_{t+1} = T \\cdot P_t\n",
        "$\n",
        "\n",
        "Here, we implement this process over a certain number of iterations and plot the difference between the current probability vector and the previous one at each iteration. This allows us to track the convergence and understand when the distribution stabilizes.\n"
      ]
    },
    {
      "cell_type": "code",
      "execution_count": 11,
      "metadata": {
        "id": "_OMcBZ8yacZB",
        "outputId": "9ae368de-fbf9-4b5a-8122-de23510be272",
        "colab": {
          "base_uri": "https://localhost:8080/",
          "height": 1000
        }
      },
      "outputs": [
        {
          "output_type": "stream",
          "name": "stdout",
          "text": [
            "Converged after 74 iterations.\n"
          ]
        },
        {
          "output_type": "display_data",
          "data": {
            "text/html": [
              "<html>\n",
              "<head><meta charset=\"utf-8\" /></head>\n",
              "<body>\n",
              "    <div>            <script src=\"https://cdnjs.cloudflare.com/ajax/libs/mathjax/2.7.5/MathJax.js?config=TeX-AMS-MML_SVG\"></script><script type=\"text/javascript\">if (window.MathJax && window.MathJax.Hub && window.MathJax.Hub.Config) {window.MathJax.Hub.Config({SVG: {font: \"STIX-Web\"}});}</script>                <script type=\"text/javascript\">window.PlotlyConfig = {MathJaxConfig: 'local'};</script>\n",
              "        <script charset=\"utf-8\" src=\"https://cdn.plot.ly/plotly-2.35.2.min.js\"></script>                <div id=\"9f5a934b-373e-40d7-b355-90db5b30d47c\" class=\"plotly-graph-div\" style=\"height:525px; width:100%;\"></div>            <script type=\"text/javascript\">                                    window.PLOTLYENV=window.PLOTLYENV || {};                                    if (document.getElementById(\"9f5a934b-373e-40d7-b355-90db5b30d47c\")) {                    Plotly.newPlot(                        \"9f5a934b-373e-40d7-b355-90db5b30d47c\",                        [{\"hoverinfo\":\"none\",\"line\":{\"color\":\"black\",\"width\":1},\"mode\":\"lines\",\"x\":[0.49280293872165615,0.5819005596437867,null,0.49280293872165615,-0.41011331407350204,null,0.49280293872165615,0.08055355372840142,null,-0.32289985695893986,-0.37392948641028173,null,-0.32289985695893986,-0.7773178740649244,null,-0.37392948641028173,0.5819005596437867,null,-0.37392948641028173,-0.7773178740649244,null,0.5819005596437867,0.49280293872165615,null,0.5819005596437867,-0.37392948641028173,null,0.5819005596437867,-0.11027245133337342,null,0.5819005596437867,0.663768726545127,null,-0.41011331407350204,-0.37392948641028173,null,-0.41011331407350204,0.08055355372840142,null,0.08055355372840142,0.5819005596437867,null,0.08055355372840142,-0.41011331407350204,null,0.08055355372840142,0.17550720420205157,null,0.08055355372840142,-0.7773178740649244,null,-0.11027245133337342,-0.37392948641028173,null,-0.11027245133337342,-0.7773178740649244,null,0.17550720420205157,0.5819005596437867,null,0.17550720420205157,-0.41011331407350204,null,0.17550720420205157,0.08055355372840142,null,0.17550720420205157,-0.7773178740649244,null,0.17550720420205157,0.663768726545127,null,-0.7773178740649244,0.17550720420205157,null,0.663768726545127,-0.11027245133337342,null],\"y\":[0.6889151570001888,-0.21663154453534728,null,0.6889151570001888,0.6799306961967194,null,0.6889151570001888,0.39018025103424436,null,0.3968932406397607,-0.4443537199671442,null,0.3968932406397607,0.013328308098415778,null,-0.4443537199671442,-0.21663154453534728,null,-0.4443537199671442,0.013328308098415778,null,-0.21663154453534728,0.6889151570001888,null,-0.21663154453534728,-0.4443537199671442,null,-0.21663154453534728,-0.47778071539318107,null,-0.21663154453534728,-1.0,null,0.6799306961967194,-0.4443537199671442,null,0.6799306961967194,0.39018025103424436,null,0.39018025103424436,-0.21663154453534728,null,0.39018025103424436,0.6799306961967194,null,0.39018025103424436,-0.030481673073655575,null,0.39018025103424436,0.013328308098415778,null,-0.47778071539318107,-0.4443537199671442,null,-0.47778071539318107,0.013328308098415778,null,-0.030481673073655575,-0.21663154453534728,null,-0.030481673073655575,0.6799306961967194,null,-0.030481673073655575,0.39018025103424436,null,-0.030481673073655575,0.013328308098415778,null,-0.030481673073655575,-1.0,null,0.013328308098415778,-0.030481673073655575,null,-1.0,-0.47778071539318107,null],\"type\":\"scatter\"},{\"hoverinfo\":\"none\",\"marker\":{\"angle\":-90,\"color\":\"black\",\"size\":8,\"symbol\":\"triangle-up\"},\"mode\":\"markers\",\"x\":[0.5373517491827214,0.04134481232407705,0.2866782462250288,-0.3484146716846108,-0.5501088655119322,0.1039855366167525,-0.575623680237603,0.5373517491827214,0.1039855366167525,0.23581405415520665,0.6228346430944569,-0.3920214002418919,-0.1647798801725503,0.3312270566860941,-0.1647798801725503,0.1280303789652265,-0.34838216016826146,-0.24210096887182758,-0.44379516269914887,0.37870388192291915,-0.11730305493572524,0.1280303789652265,-0.3009053349314364,0.4196379653735893,-0.3009053349314364,0.2767481376058768],\"y\":[0.23614180623242076,0.684422926598454,0.5395477040172165,-0.023730239663691727,0.20511077436908826,-0.3304926322512457,-0.2155127059343642,0.23614180623242076,-0.3304926322512457,-0.34720612996426414,-0.6083157722676736,0.11778848811478762,0.5350554736154819,0.08677435324944854,0.5350554736154819,0.1798492889802944,0.20175427956633007,-0.4610672176801626,-0.23222620364738264,-0.12355660880450142,0.3247245115615319,0.1798492889802944,-0.008576682487619898,-0.5152408365368278,-0.008576682487619898,-0.7388903576965905],\"type\":\"scatter\"},{\"hoverinfo\":\"text\",\"marker\":{\"color\":[0.03337887956275615,0.0,0.12258442318953738,0.13351551825102506,0.07222330665625629,0.08666796798750744,0.10618778059730616,0.19715010735896907,0.1754831153620929,0.07280890103455018],\"colorbar\":{\"thickness\":15,\"title\":{\"side\":\"right\",\"text\":\"PageRank Value\"},\"xanchor\":\"left\"},\"colorscale\":[[0.0,\"rgb(255,255,217)\"],[0.125,\"rgb(237,248,177)\"],[0.25,\"rgb(199,233,180)\"],[0.375,\"rgb(127,205,187)\"],[0.5,\"rgb(65,182,196)\"],[0.625,\"rgb(29,145,192)\"],[0.75,\"rgb(34,94,168)\"],[0.875,\"rgb(37,52,148)\"],[1.0,\"rgb(8,29,88)\"]],\"line\":{\"width\":2},\"showscale\":true,\"size\":20},\"mode\":\"markers\",\"text\":[\"Page 0 - PageRank: 0.033\",\"Page 1 - PageRank: 0.000\",\"Page 2 - PageRank: 0.123\",\"Page 3 - PageRank: 0.134\",\"Page 4 - PageRank: 0.072\",\"Page 5 - PageRank: 0.087\",\"Page 6 - PageRank: 0.106\",\"Page 7 - PageRank: 0.197\",\"Page 8 - PageRank: 0.175\",\"Page 9 - PageRank: 0.073\"],\"x\":[0.49280293872165615,-0.32289985695893986,-0.37392948641028173,0.5819005596437867,-0.41011331407350204,0.08055355372840142,-0.11027245133337342,0.17550720420205157,-0.7773178740649244,0.663768726545127],\"y\":[0.6889151570001888,0.3968932406397607,-0.4443537199671442,-0.21663154453534728,0.6799306961967194,0.39018025103424436,-0.47778071539318107,-0.030481673073655575,0.013328308098415778,-1.0],\"type\":\"scatter\"}],                        {\"annotations\":[{\"showarrow\":false,\"text\":\"Directed graph representing webpage linkages\",\"x\":0.005,\"xref\":\"paper\",\"y\":-0.002,\"yref\":\"paper\"}],\"hovermode\":\"closest\",\"margin\":{\"b\":0,\"l\":0,\"r\":0,\"t\":40},\"showlegend\":false,\"title\":{\"font\":{\"size\":16},\"text\":\"Webpage Linkage Graph (PageRank Visualization)\"},\"xaxis\":{\"showgrid\":false,\"zeroline\":false},\"yaxis\":{\"showgrid\":false,\"zeroline\":false},\"template\":{\"data\":{\"histogram2dcontour\":[{\"type\":\"histogram2dcontour\",\"colorbar\":{\"outlinewidth\":0,\"ticks\":\"\"},\"colorscale\":[[0.0,\"#0d0887\"],[0.1111111111111111,\"#46039f\"],[0.2222222222222222,\"#7201a8\"],[0.3333333333333333,\"#9c179e\"],[0.4444444444444444,\"#bd3786\"],[0.5555555555555556,\"#d8576b\"],[0.6666666666666666,\"#ed7953\"],[0.7777777777777778,\"#fb9f3a\"],[0.8888888888888888,\"#fdca26\"],[1.0,\"#f0f921\"]]}],\"choropleth\":[{\"type\":\"choropleth\",\"colorbar\":{\"outlinewidth\":0,\"ticks\":\"\"}}],\"histogram2d\":[{\"type\":\"histogram2d\",\"colorbar\":{\"outlinewidth\":0,\"ticks\":\"\"},\"colorscale\":[[0.0,\"#0d0887\"],[0.1111111111111111,\"#46039f\"],[0.2222222222222222,\"#7201a8\"],[0.3333333333333333,\"#9c179e\"],[0.4444444444444444,\"#bd3786\"],[0.5555555555555556,\"#d8576b\"],[0.6666666666666666,\"#ed7953\"],[0.7777777777777778,\"#fb9f3a\"],[0.8888888888888888,\"#fdca26\"],[1.0,\"#f0f921\"]]}],\"heatmap\":[{\"type\":\"heatmap\",\"colorbar\":{\"outlinewidth\":0,\"ticks\":\"\"},\"colorscale\":[[0.0,\"#0d0887\"],[0.1111111111111111,\"#46039f\"],[0.2222222222222222,\"#7201a8\"],[0.3333333333333333,\"#9c179e\"],[0.4444444444444444,\"#bd3786\"],[0.5555555555555556,\"#d8576b\"],[0.6666666666666666,\"#ed7953\"],[0.7777777777777778,\"#fb9f3a\"],[0.8888888888888888,\"#fdca26\"],[1.0,\"#f0f921\"]]}],\"heatmapgl\":[{\"type\":\"heatmapgl\",\"colorbar\":{\"outlinewidth\":0,\"ticks\":\"\"},\"colorscale\":[[0.0,\"#0d0887\"],[0.1111111111111111,\"#46039f\"],[0.2222222222222222,\"#7201a8\"],[0.3333333333333333,\"#9c179e\"],[0.4444444444444444,\"#bd3786\"],[0.5555555555555556,\"#d8576b\"],[0.6666666666666666,\"#ed7953\"],[0.7777777777777778,\"#fb9f3a\"],[0.8888888888888888,\"#fdca26\"],[1.0,\"#f0f921\"]]}],\"contourcarpet\":[{\"type\":\"contourcarpet\",\"colorbar\":{\"outlinewidth\":0,\"ticks\":\"\"}}],\"contour\":[{\"type\":\"contour\",\"colorbar\":{\"outlinewidth\":0,\"ticks\":\"\"},\"colorscale\":[[0.0,\"#0d0887\"],[0.1111111111111111,\"#46039f\"],[0.2222222222222222,\"#7201a8\"],[0.3333333333333333,\"#9c179e\"],[0.4444444444444444,\"#bd3786\"],[0.5555555555555556,\"#d8576b\"],[0.6666666666666666,\"#ed7953\"],[0.7777777777777778,\"#fb9f3a\"],[0.8888888888888888,\"#fdca26\"],[1.0,\"#f0f921\"]]}],\"surface\":[{\"type\":\"surface\",\"colorbar\":{\"outlinewidth\":0,\"ticks\":\"\"},\"colorscale\":[[0.0,\"#0d0887\"],[0.1111111111111111,\"#46039f\"],[0.2222222222222222,\"#7201a8\"],[0.3333333333333333,\"#9c179e\"],[0.4444444444444444,\"#bd3786\"],[0.5555555555555556,\"#d8576b\"],[0.6666666666666666,\"#ed7953\"],[0.7777777777777778,\"#fb9f3a\"],[0.8888888888888888,\"#fdca26\"],[1.0,\"#f0f921\"]]}],\"mesh3d\":[{\"type\":\"mesh3d\",\"colorbar\":{\"outlinewidth\":0,\"ticks\":\"\"}}],\"scatter\":[{\"fillpattern\":{\"fillmode\":\"overlay\",\"size\":10,\"solidity\":0.2},\"type\":\"scatter\"}],\"parcoords\":[{\"type\":\"parcoords\",\"line\":{\"colorbar\":{\"outlinewidth\":0,\"ticks\":\"\"}}}],\"scatterpolargl\":[{\"type\":\"scatterpolargl\",\"marker\":{\"colorbar\":{\"outlinewidth\":0,\"ticks\":\"\"}}}],\"bar\":[{\"error_x\":{\"color\":\"#2a3f5f\"},\"error_y\":{\"color\":\"#2a3f5f\"},\"marker\":{\"line\":{\"color\":\"#E5ECF6\",\"width\":0.5},\"pattern\":{\"fillmode\":\"overlay\",\"size\":10,\"solidity\":0.2}},\"type\":\"bar\"}],\"scattergeo\":[{\"type\":\"scattergeo\",\"marker\":{\"colorbar\":{\"outlinewidth\":0,\"ticks\":\"\"}}}],\"scatterpolar\":[{\"type\":\"scatterpolar\",\"marker\":{\"colorbar\":{\"outlinewidth\":0,\"ticks\":\"\"}}}],\"histogram\":[{\"marker\":{\"pattern\":{\"fillmode\":\"overlay\",\"size\":10,\"solidity\":0.2}},\"type\":\"histogram\"}],\"scattergl\":[{\"type\":\"scattergl\",\"marker\":{\"colorbar\":{\"outlinewidth\":0,\"ticks\":\"\"}}}],\"scatter3d\":[{\"type\":\"scatter3d\",\"line\":{\"colorbar\":{\"outlinewidth\":0,\"ticks\":\"\"}},\"marker\":{\"colorbar\":{\"outlinewidth\":0,\"ticks\":\"\"}}}],\"scattermapbox\":[{\"type\":\"scattermapbox\",\"marker\":{\"colorbar\":{\"outlinewidth\":0,\"ticks\":\"\"}}}],\"scatterternary\":[{\"type\":\"scatterternary\",\"marker\":{\"colorbar\":{\"outlinewidth\":0,\"ticks\":\"\"}}}],\"scattercarpet\":[{\"type\":\"scattercarpet\",\"marker\":{\"colorbar\":{\"outlinewidth\":0,\"ticks\":\"\"}}}],\"carpet\":[{\"aaxis\":{\"endlinecolor\":\"#2a3f5f\",\"gridcolor\":\"white\",\"linecolor\":\"white\",\"minorgridcolor\":\"white\",\"startlinecolor\":\"#2a3f5f\"},\"baxis\":{\"endlinecolor\":\"#2a3f5f\",\"gridcolor\":\"white\",\"linecolor\":\"white\",\"minorgridcolor\":\"white\",\"startlinecolor\":\"#2a3f5f\"},\"type\":\"carpet\"}],\"table\":[{\"cells\":{\"fill\":{\"color\":\"#EBF0F8\"},\"line\":{\"color\":\"white\"}},\"header\":{\"fill\":{\"color\":\"#C8D4E3\"},\"line\":{\"color\":\"white\"}},\"type\":\"table\"}],\"barpolar\":[{\"marker\":{\"line\":{\"color\":\"#E5ECF6\",\"width\":0.5},\"pattern\":{\"fillmode\":\"overlay\",\"size\":10,\"solidity\":0.2}},\"type\":\"barpolar\"}],\"pie\":[{\"automargin\":true,\"type\":\"pie\"}]},\"layout\":{\"autotypenumbers\":\"strict\",\"colorway\":[\"#636efa\",\"#EF553B\",\"#00cc96\",\"#ab63fa\",\"#FFA15A\",\"#19d3f3\",\"#FF6692\",\"#B6E880\",\"#FF97FF\",\"#FECB52\"],\"font\":{\"color\":\"#2a3f5f\"},\"hovermode\":\"closest\",\"hoverlabel\":{\"align\":\"left\"},\"paper_bgcolor\":\"white\",\"plot_bgcolor\":\"#E5ECF6\",\"polar\":{\"bgcolor\":\"#E5ECF6\",\"angularaxis\":{\"gridcolor\":\"white\",\"linecolor\":\"white\",\"ticks\":\"\"},\"radialaxis\":{\"gridcolor\":\"white\",\"linecolor\":\"white\",\"ticks\":\"\"}},\"ternary\":{\"bgcolor\":\"#E5ECF6\",\"aaxis\":{\"gridcolor\":\"white\",\"linecolor\":\"white\",\"ticks\":\"\"},\"baxis\":{\"gridcolor\":\"white\",\"linecolor\":\"white\",\"ticks\":\"\"},\"caxis\":{\"gridcolor\":\"white\",\"linecolor\":\"white\",\"ticks\":\"\"}},\"coloraxis\":{\"colorbar\":{\"outlinewidth\":0,\"ticks\":\"\"}},\"colorscale\":{\"sequential\":[[0.0,\"#0d0887\"],[0.1111111111111111,\"#46039f\"],[0.2222222222222222,\"#7201a8\"],[0.3333333333333333,\"#9c179e\"],[0.4444444444444444,\"#bd3786\"],[0.5555555555555556,\"#d8576b\"],[0.6666666666666666,\"#ed7953\"],[0.7777777777777778,\"#fb9f3a\"],[0.8888888888888888,\"#fdca26\"],[1.0,\"#f0f921\"]],\"sequentialminus\":[[0.0,\"#0d0887\"],[0.1111111111111111,\"#46039f\"],[0.2222222222222222,\"#7201a8\"],[0.3333333333333333,\"#9c179e\"],[0.4444444444444444,\"#bd3786\"],[0.5555555555555556,\"#d8576b\"],[0.6666666666666666,\"#ed7953\"],[0.7777777777777778,\"#fb9f3a\"],[0.8888888888888888,\"#fdca26\"],[1.0,\"#f0f921\"]],\"diverging\":[[0,\"#8e0152\"],[0.1,\"#c51b7d\"],[0.2,\"#de77ae\"],[0.3,\"#f1b6da\"],[0.4,\"#fde0ef\"],[0.5,\"#f7f7f7\"],[0.6,\"#e6f5d0\"],[0.7,\"#b8e186\"],[0.8,\"#7fbc41\"],[0.9,\"#4d9221\"],[1,\"#276419\"]]},\"xaxis\":{\"gridcolor\":\"white\",\"linecolor\":\"white\",\"ticks\":\"\",\"title\":{\"standoff\":15},\"zerolinecolor\":\"white\",\"automargin\":true,\"zerolinewidth\":2},\"yaxis\":{\"gridcolor\":\"white\",\"linecolor\":\"white\",\"ticks\":\"\",\"title\":{\"standoff\":15},\"zerolinecolor\":\"white\",\"automargin\":true,\"zerolinewidth\":2},\"scene\":{\"xaxis\":{\"backgroundcolor\":\"#E5ECF6\",\"gridcolor\":\"white\",\"linecolor\":\"white\",\"showbackground\":true,\"ticks\":\"\",\"zerolinecolor\":\"white\",\"gridwidth\":2},\"yaxis\":{\"backgroundcolor\":\"#E5ECF6\",\"gridcolor\":\"white\",\"linecolor\":\"white\",\"showbackground\":true,\"ticks\":\"\",\"zerolinecolor\":\"white\",\"gridwidth\":2},\"zaxis\":{\"backgroundcolor\":\"#E5ECF6\",\"gridcolor\":\"white\",\"linecolor\":\"white\",\"showbackground\":true,\"ticks\":\"\",\"zerolinecolor\":\"white\",\"gridwidth\":2}},\"shapedefaults\":{\"line\":{\"color\":\"#2a3f5f\"}},\"annotationdefaults\":{\"arrowcolor\":\"#2a3f5f\",\"arrowhead\":0,\"arrowwidth\":1},\"geo\":{\"bgcolor\":\"white\",\"landcolor\":\"#E5ECF6\",\"subunitcolor\":\"white\",\"showland\":true,\"showlakes\":true,\"lakecolor\":\"white\"},\"title\":{\"x\":0.05},\"mapbox\":{\"style\":\"light\"}}}},                        {\"responsive\": true}                    ).then(function(){\n",
              "                            \n",
              "var gd = document.getElementById('9f5a934b-373e-40d7-b355-90db5b30d47c');\n",
              "var x = new MutationObserver(function (mutations, observer) {{\n",
              "        var display = window.getComputedStyle(gd).display;\n",
              "        if (!display || display === 'none') {{\n",
              "            console.log([gd, 'removed!']);\n",
              "            Plotly.purge(gd);\n",
              "            observer.disconnect();\n",
              "        }}\n",
              "}});\n",
              "\n",
              "// Listen for the removal of the full notebook cells\n",
              "var notebookContainer = gd.closest('#notebook-container');\n",
              "if (notebookContainer) {{\n",
              "    x.observe(notebookContainer, {childList: true});\n",
              "}}\n",
              "\n",
              "// Listen for the clearing of the current output cell\n",
              "var outputEl = gd.closest('.output');\n",
              "if (outputEl) {{\n",
              "    x.observe(outputEl, {childList: true});\n",
              "}}\n",
              "\n",
              "                        })                };                            </script>        </div>\n",
              "</body>\n",
              "</html>"
            ]
          },
          "metadata": {}
        },
        {
          "output_type": "display_data",
          "data": {
            "text/html": [
              "<html>\n",
              "<head><meta charset=\"utf-8\" /></head>\n",
              "<body>\n",
              "    <div>            <script src=\"https://cdnjs.cloudflare.com/ajax/libs/mathjax/2.7.5/MathJax.js?config=TeX-AMS-MML_SVG\"></script><script type=\"text/javascript\">if (window.MathJax && window.MathJax.Hub && window.MathJax.Hub.Config) {window.MathJax.Hub.Config({SVG: {font: \"STIX-Web\"}});}</script>                <script type=\"text/javascript\">window.PlotlyConfig = {MathJaxConfig: 'local'};</script>\n",
              "        <script charset=\"utf-8\" src=\"https://cdn.plot.ly/plotly-2.35.2.min.js\"></script>                <div id=\"feb9a45e-a647-4ab0-9a8e-b172bea64101\" class=\"plotly-graph-div\" style=\"height:525px; width:100%;\"></div>            <script type=\"text/javascript\">                                    window.PLOTLYENV=window.PLOTLYENV || {};                                    if (document.getElementById(\"feb9a45e-a647-4ab0-9a8e-b172bea64101\")) {                    Plotly.newPlot(                        \"feb9a45e-a647-4ab0-9a8e-b172bea64101\",                        [{\"hoverinfo\":\"none\",\"line\":{\"color\":\"black\",\"width\":1},\"mode\":\"lines\",\"x\":[0.49280293872165615,0.5819005596437867,null,0.49280293872165615,-0.41011331407350204,null,0.49280293872165615,0.08055355372840142,null,-0.32289985695893986,-0.37392948641028173,null,-0.32289985695893986,-0.7773178740649244,null,-0.37392948641028173,0.5819005596437867,null,-0.37392948641028173,-0.7773178740649244,null,0.5819005596437867,0.49280293872165615,null,0.5819005596437867,-0.37392948641028173,null,0.5819005596437867,-0.11027245133337342,null,0.5819005596437867,0.663768726545127,null,-0.41011331407350204,-0.37392948641028173,null,-0.41011331407350204,0.08055355372840142,null,0.08055355372840142,0.5819005596437867,null,0.08055355372840142,-0.41011331407350204,null,0.08055355372840142,0.17550720420205157,null,0.08055355372840142,-0.7773178740649244,null,-0.11027245133337342,-0.37392948641028173,null,-0.11027245133337342,-0.7773178740649244,null,0.17550720420205157,0.5819005596437867,null,0.17550720420205157,-0.41011331407350204,null,0.17550720420205157,0.08055355372840142,null,0.17550720420205157,-0.7773178740649244,null,0.17550720420205157,0.663768726545127,null,-0.7773178740649244,0.17550720420205157,null,0.663768726545127,-0.11027245133337342,null],\"y\":[0.6889151570001888,-0.21663154453534728,null,0.6889151570001888,0.6799306961967194,null,0.6889151570001888,0.39018025103424436,null,0.3968932406397607,-0.4443537199671442,null,0.3968932406397607,0.013328308098415778,null,-0.4443537199671442,-0.21663154453534728,null,-0.4443537199671442,0.013328308098415778,null,-0.21663154453534728,0.6889151570001888,null,-0.21663154453534728,-0.4443537199671442,null,-0.21663154453534728,-0.47778071539318107,null,-0.21663154453534728,-1.0,null,0.6799306961967194,-0.4443537199671442,null,0.6799306961967194,0.39018025103424436,null,0.39018025103424436,-0.21663154453534728,null,0.39018025103424436,0.6799306961967194,null,0.39018025103424436,-0.030481673073655575,null,0.39018025103424436,0.013328308098415778,null,-0.47778071539318107,-0.4443537199671442,null,-0.47778071539318107,0.013328308098415778,null,-0.030481673073655575,-0.21663154453534728,null,-0.030481673073655575,0.6799306961967194,null,-0.030481673073655575,0.39018025103424436,null,-0.030481673073655575,0.013328308098415778,null,-0.030481673073655575,-1.0,null,0.013328308098415778,-0.030481673073655575,null,-1.0,-0.47778071539318107,null],\"type\":\"scatter\"},{\"hoverinfo\":\"none\",\"marker\":{\"angle\":-90,\"color\":\"black\",\"size\":8,\"symbol\":\"triangle-up\"},\"mode\":\"markers\",\"x\":[0.5373517491827214,0.04134481232407705,0.2866782462250288,-0.3484146716846108,-0.5501088655119322,0.1039855366167525,-0.575623680237603,0.5373517491827214,0.1039855366167525,0.23581405415520665,0.6228346430944569,-0.3920214002418919,-0.1647798801725503,0.3312270566860941,-0.1647798801725503,0.1280303789652265,-0.34838216016826146,-0.24210096887182758,-0.44379516269914887,0.37870388192291915,-0.11730305493572524,0.1280303789652265,-0.3009053349314364,0.4196379653735893,-0.3009053349314364,0.2767481376058768],\"y\":[0.23614180623242076,0.684422926598454,0.5395477040172165,-0.023730239663691727,0.20511077436908826,-0.3304926322512457,-0.2155127059343642,0.23614180623242076,-0.3304926322512457,-0.34720612996426414,-0.6083157722676736,0.11778848811478762,0.5350554736154819,0.08677435324944854,0.5350554736154819,0.1798492889802944,0.20175427956633007,-0.4610672176801626,-0.23222620364738264,-0.12355660880450142,0.3247245115615319,0.1798492889802944,-0.008576682487619898,-0.5152408365368278,-0.008576682487619898,-0.7388903576965905],\"type\":\"scatter\"},{\"hoverinfo\":\"text\",\"marker\":{\"color\":[0.0425168059198347,0.015000000000000003,0.12554321034792046,0.12949081862956055,0.07613582752036031,0.08947926888742878,0.10422074365583944,0.17690873058170248,0.16811287135386818,0.07259172310348536],\"colorbar\":{\"thickness\":15,\"title\":{\"side\":\"right\",\"text\":\"PageRank Value\"},\"xanchor\":\"left\"},\"colorscale\":[[0.0,\"rgb(255,255,217)\"],[0.125,\"rgb(237,248,177)\"],[0.25,\"rgb(199,233,180)\"],[0.375,\"rgb(127,205,187)\"],[0.5,\"rgb(65,182,196)\"],[0.625,\"rgb(29,145,192)\"],[0.75,\"rgb(34,94,168)\"],[0.875,\"rgb(37,52,148)\"],[1.0,\"rgb(8,29,88)\"]],\"line\":{\"width\":2},\"showscale\":true,\"size\":20},\"mode\":\"markers\",\"text\":[\"Page 0 - PageRank: 0.043\",\"Page 1 - PageRank: 0.015\",\"Page 2 - PageRank: 0.126\",\"Page 3 - PageRank: 0.129\",\"Page 4 - PageRank: 0.076\",\"Page 5 - PageRank: 0.089\",\"Page 6 - PageRank: 0.104\",\"Page 7 - PageRank: 0.177\",\"Page 8 - PageRank: 0.168\",\"Page 9 - PageRank: 0.073\"],\"x\":[0.49280293872165615,-0.32289985695893986,-0.37392948641028173,0.5819005596437867,-0.41011331407350204,0.08055355372840142,-0.11027245133337342,0.17550720420205157,-0.7773178740649244,0.663768726545127],\"y\":[0.6889151570001888,0.3968932406397607,-0.4443537199671442,-0.21663154453534728,0.6799306961967194,0.39018025103424436,-0.47778071539318107,-0.030481673073655575,0.013328308098415778,-1.0],\"type\":\"scatter\"}],                        {\"annotations\":[{\"showarrow\":false,\"text\":\"Directed graph representing webpage linkages\",\"x\":0.005,\"xref\":\"paper\",\"y\":-0.002,\"yref\":\"paper\"}],\"hovermode\":\"closest\",\"margin\":{\"b\":0,\"l\":0,\"r\":0,\"t\":40},\"showlegend\":false,\"title\":{\"font\":{\"size\":16},\"text\":\"Webpage Linkage Graph (PageRank Visualization)\"},\"xaxis\":{\"showgrid\":false,\"zeroline\":false},\"yaxis\":{\"showgrid\":false,\"zeroline\":false},\"template\":{\"data\":{\"histogram2dcontour\":[{\"type\":\"histogram2dcontour\",\"colorbar\":{\"outlinewidth\":0,\"ticks\":\"\"},\"colorscale\":[[0.0,\"#0d0887\"],[0.1111111111111111,\"#46039f\"],[0.2222222222222222,\"#7201a8\"],[0.3333333333333333,\"#9c179e\"],[0.4444444444444444,\"#bd3786\"],[0.5555555555555556,\"#d8576b\"],[0.6666666666666666,\"#ed7953\"],[0.7777777777777778,\"#fb9f3a\"],[0.8888888888888888,\"#fdca26\"],[1.0,\"#f0f921\"]]}],\"choropleth\":[{\"type\":\"choropleth\",\"colorbar\":{\"outlinewidth\":0,\"ticks\":\"\"}}],\"histogram2d\":[{\"type\":\"histogram2d\",\"colorbar\":{\"outlinewidth\":0,\"ticks\":\"\"},\"colorscale\":[[0.0,\"#0d0887\"],[0.1111111111111111,\"#46039f\"],[0.2222222222222222,\"#7201a8\"],[0.3333333333333333,\"#9c179e\"],[0.4444444444444444,\"#bd3786\"],[0.5555555555555556,\"#d8576b\"],[0.6666666666666666,\"#ed7953\"],[0.7777777777777778,\"#fb9f3a\"],[0.8888888888888888,\"#fdca26\"],[1.0,\"#f0f921\"]]}],\"heatmap\":[{\"type\":\"heatmap\",\"colorbar\":{\"outlinewidth\":0,\"ticks\":\"\"},\"colorscale\":[[0.0,\"#0d0887\"],[0.1111111111111111,\"#46039f\"],[0.2222222222222222,\"#7201a8\"],[0.3333333333333333,\"#9c179e\"],[0.4444444444444444,\"#bd3786\"],[0.5555555555555556,\"#d8576b\"],[0.6666666666666666,\"#ed7953\"],[0.7777777777777778,\"#fb9f3a\"],[0.8888888888888888,\"#fdca26\"],[1.0,\"#f0f921\"]]}],\"heatmapgl\":[{\"type\":\"heatmapgl\",\"colorbar\":{\"outlinewidth\":0,\"ticks\":\"\"},\"colorscale\":[[0.0,\"#0d0887\"],[0.1111111111111111,\"#46039f\"],[0.2222222222222222,\"#7201a8\"],[0.3333333333333333,\"#9c179e\"],[0.4444444444444444,\"#bd3786\"],[0.5555555555555556,\"#d8576b\"],[0.6666666666666666,\"#ed7953\"],[0.7777777777777778,\"#fb9f3a\"],[0.8888888888888888,\"#fdca26\"],[1.0,\"#f0f921\"]]}],\"contourcarpet\":[{\"type\":\"contourcarpet\",\"colorbar\":{\"outlinewidth\":0,\"ticks\":\"\"}}],\"contour\":[{\"type\":\"contour\",\"colorbar\":{\"outlinewidth\":0,\"ticks\":\"\"},\"colorscale\":[[0.0,\"#0d0887\"],[0.1111111111111111,\"#46039f\"],[0.2222222222222222,\"#7201a8\"],[0.3333333333333333,\"#9c179e\"],[0.4444444444444444,\"#bd3786\"],[0.5555555555555556,\"#d8576b\"],[0.6666666666666666,\"#ed7953\"],[0.7777777777777778,\"#fb9f3a\"],[0.8888888888888888,\"#fdca26\"],[1.0,\"#f0f921\"]]}],\"surface\":[{\"type\":\"surface\",\"colorbar\":{\"outlinewidth\":0,\"ticks\":\"\"},\"colorscale\":[[0.0,\"#0d0887\"],[0.1111111111111111,\"#46039f\"],[0.2222222222222222,\"#7201a8\"],[0.3333333333333333,\"#9c179e\"],[0.4444444444444444,\"#bd3786\"],[0.5555555555555556,\"#d8576b\"],[0.6666666666666666,\"#ed7953\"],[0.7777777777777778,\"#fb9f3a\"],[0.8888888888888888,\"#fdca26\"],[1.0,\"#f0f921\"]]}],\"mesh3d\":[{\"type\":\"mesh3d\",\"colorbar\":{\"outlinewidth\":0,\"ticks\":\"\"}}],\"scatter\":[{\"fillpattern\":{\"fillmode\":\"overlay\",\"size\":10,\"solidity\":0.2},\"type\":\"scatter\"}],\"parcoords\":[{\"type\":\"parcoords\",\"line\":{\"colorbar\":{\"outlinewidth\":0,\"ticks\":\"\"}}}],\"scatterpolargl\":[{\"type\":\"scatterpolargl\",\"marker\":{\"colorbar\":{\"outlinewidth\":0,\"ticks\":\"\"}}}],\"bar\":[{\"error_x\":{\"color\":\"#2a3f5f\"},\"error_y\":{\"color\":\"#2a3f5f\"},\"marker\":{\"line\":{\"color\":\"#E5ECF6\",\"width\":0.5},\"pattern\":{\"fillmode\":\"overlay\",\"size\":10,\"solidity\":0.2}},\"type\":\"bar\"}],\"scattergeo\":[{\"type\":\"scattergeo\",\"marker\":{\"colorbar\":{\"outlinewidth\":0,\"ticks\":\"\"}}}],\"scatterpolar\":[{\"type\":\"scatterpolar\",\"marker\":{\"colorbar\":{\"outlinewidth\":0,\"ticks\":\"\"}}}],\"histogram\":[{\"marker\":{\"pattern\":{\"fillmode\":\"overlay\",\"size\":10,\"solidity\":0.2}},\"type\":\"histogram\"}],\"scattergl\":[{\"type\":\"scattergl\",\"marker\":{\"colorbar\":{\"outlinewidth\":0,\"ticks\":\"\"}}}],\"scatter3d\":[{\"type\":\"scatter3d\",\"line\":{\"colorbar\":{\"outlinewidth\":0,\"ticks\":\"\"}},\"marker\":{\"colorbar\":{\"outlinewidth\":0,\"ticks\":\"\"}}}],\"scattermapbox\":[{\"type\":\"scattermapbox\",\"marker\":{\"colorbar\":{\"outlinewidth\":0,\"ticks\":\"\"}}}],\"scatterternary\":[{\"type\":\"scatterternary\",\"marker\":{\"colorbar\":{\"outlinewidth\":0,\"ticks\":\"\"}}}],\"scattercarpet\":[{\"type\":\"scattercarpet\",\"marker\":{\"colorbar\":{\"outlinewidth\":0,\"ticks\":\"\"}}}],\"carpet\":[{\"aaxis\":{\"endlinecolor\":\"#2a3f5f\",\"gridcolor\":\"white\",\"linecolor\":\"white\",\"minorgridcolor\":\"white\",\"startlinecolor\":\"#2a3f5f\"},\"baxis\":{\"endlinecolor\":\"#2a3f5f\",\"gridcolor\":\"white\",\"linecolor\":\"white\",\"minorgridcolor\":\"white\",\"startlinecolor\":\"#2a3f5f\"},\"type\":\"carpet\"}],\"table\":[{\"cells\":{\"fill\":{\"color\":\"#EBF0F8\"},\"line\":{\"color\":\"white\"}},\"header\":{\"fill\":{\"color\":\"#C8D4E3\"},\"line\":{\"color\":\"white\"}},\"type\":\"table\"}],\"barpolar\":[{\"marker\":{\"line\":{\"color\":\"#E5ECF6\",\"width\":0.5},\"pattern\":{\"fillmode\":\"overlay\",\"size\":10,\"solidity\":0.2}},\"type\":\"barpolar\"}],\"pie\":[{\"automargin\":true,\"type\":\"pie\"}]},\"layout\":{\"autotypenumbers\":\"strict\",\"colorway\":[\"#636efa\",\"#EF553B\",\"#00cc96\",\"#ab63fa\",\"#FFA15A\",\"#19d3f3\",\"#FF6692\",\"#B6E880\",\"#FF97FF\",\"#FECB52\"],\"font\":{\"color\":\"#2a3f5f\"},\"hovermode\":\"closest\",\"hoverlabel\":{\"align\":\"left\"},\"paper_bgcolor\":\"white\",\"plot_bgcolor\":\"#E5ECF6\",\"polar\":{\"bgcolor\":\"#E5ECF6\",\"angularaxis\":{\"gridcolor\":\"white\",\"linecolor\":\"white\",\"ticks\":\"\"},\"radialaxis\":{\"gridcolor\":\"white\",\"linecolor\":\"white\",\"ticks\":\"\"}},\"ternary\":{\"bgcolor\":\"#E5ECF6\",\"aaxis\":{\"gridcolor\":\"white\",\"linecolor\":\"white\",\"ticks\":\"\"},\"baxis\":{\"gridcolor\":\"white\",\"linecolor\":\"white\",\"ticks\":\"\"},\"caxis\":{\"gridcolor\":\"white\",\"linecolor\":\"white\",\"ticks\":\"\"}},\"coloraxis\":{\"colorbar\":{\"outlinewidth\":0,\"ticks\":\"\"}},\"colorscale\":{\"sequential\":[[0.0,\"#0d0887\"],[0.1111111111111111,\"#46039f\"],[0.2222222222222222,\"#7201a8\"],[0.3333333333333333,\"#9c179e\"],[0.4444444444444444,\"#bd3786\"],[0.5555555555555556,\"#d8576b\"],[0.6666666666666666,\"#ed7953\"],[0.7777777777777778,\"#fb9f3a\"],[0.8888888888888888,\"#fdca26\"],[1.0,\"#f0f921\"]],\"sequentialminus\":[[0.0,\"#0d0887\"],[0.1111111111111111,\"#46039f\"],[0.2222222222222222,\"#7201a8\"],[0.3333333333333333,\"#9c179e\"],[0.4444444444444444,\"#bd3786\"],[0.5555555555555556,\"#d8576b\"],[0.6666666666666666,\"#ed7953\"],[0.7777777777777778,\"#fb9f3a\"],[0.8888888888888888,\"#fdca26\"],[1.0,\"#f0f921\"]],\"diverging\":[[0,\"#8e0152\"],[0.1,\"#c51b7d\"],[0.2,\"#de77ae\"],[0.3,\"#f1b6da\"],[0.4,\"#fde0ef\"],[0.5,\"#f7f7f7\"],[0.6,\"#e6f5d0\"],[0.7,\"#b8e186\"],[0.8,\"#7fbc41\"],[0.9,\"#4d9221\"],[1,\"#276419\"]]},\"xaxis\":{\"gridcolor\":\"white\",\"linecolor\":\"white\",\"ticks\":\"\",\"title\":{\"standoff\":15},\"zerolinecolor\":\"white\",\"automargin\":true,\"zerolinewidth\":2},\"yaxis\":{\"gridcolor\":\"white\",\"linecolor\":\"white\",\"ticks\":\"\",\"title\":{\"standoff\":15},\"zerolinecolor\":\"white\",\"automargin\":true,\"zerolinewidth\":2},\"scene\":{\"xaxis\":{\"backgroundcolor\":\"#E5ECF6\",\"gridcolor\":\"white\",\"linecolor\":\"white\",\"showbackground\":true,\"ticks\":\"\",\"zerolinecolor\":\"white\",\"gridwidth\":2},\"yaxis\":{\"backgroundcolor\":\"#E5ECF6\",\"gridcolor\":\"white\",\"linecolor\":\"white\",\"showbackground\":true,\"ticks\":\"\",\"zerolinecolor\":\"white\",\"gridwidth\":2},\"zaxis\":{\"backgroundcolor\":\"#E5ECF6\",\"gridcolor\":\"white\",\"linecolor\":\"white\",\"showbackground\":true,\"ticks\":\"\",\"zerolinecolor\":\"white\",\"gridwidth\":2}},\"shapedefaults\":{\"line\":{\"color\":\"#2a3f5f\"}},\"annotationdefaults\":{\"arrowcolor\":\"#2a3f5f\",\"arrowhead\":0,\"arrowwidth\":1},\"geo\":{\"bgcolor\":\"white\",\"landcolor\":\"#E5ECF6\",\"subunitcolor\":\"white\",\"showland\":true,\"showlakes\":true,\"lakecolor\":\"white\"},\"title\":{\"x\":0.05},\"mapbox\":{\"style\":\"light\"}}}},                        {\"responsive\": true}                    ).then(function(){\n",
              "                            \n",
              "var gd = document.getElementById('feb9a45e-a647-4ab0-9a8e-b172bea64101');\n",
              "var x = new MutationObserver(function (mutations, observer) {{\n",
              "        var display = window.getComputedStyle(gd).display;\n",
              "        if (!display || display === 'none') {{\n",
              "            console.log([gd, 'removed!']);\n",
              "            Plotly.purge(gd);\n",
              "            observer.disconnect();\n",
              "        }}\n",
              "}});\n",
              "\n",
              "// Listen for the removal of the full notebook cells\n",
              "var notebookContainer = gd.closest('#notebook-container');\n",
              "if (notebookContainer) {{\n",
              "    x.observe(notebookContainer, {childList: true});\n",
              "}}\n",
              "\n",
              "// Listen for the clearing of the current output cell\n",
              "var outputEl = gd.closest('.output');\n",
              "if (outputEl) {{\n",
              "    x.observe(outputEl, {childList: true});\n",
              "}}\n",
              "\n",
              "                        })                };                            </script>        </div>\n",
              "</body>\n",
              "</html>"
            ]
          },
          "metadata": {}
        }
      ],
      "source": [
        "''' Simulate the random walk '''\n",
        "\n",
        "def find_stationary_values(transitionMatrix, currentValues, iterations = 150, treshold = 1e-15):\n",
        "    \"\"\"\n",
        "    Parameters:\n",
        "\n",
        "    - transitionMatrix : adj matrix which you need to normalize.\n",
        "    - currentValues : initial probabilities which we initialized with a unifirm distribution.\n",
        "    - iterations : The maximum number of iterations to perform the random walk.\n",
        "    - treshold: The threshold for the difference ( you can use L1 norm ) between consecutive iterations.\n",
        "                The simulation stops when the difference falls below this value.\n",
        "    \"\"\"\n",
        "    row_sums = transitionMatrix.sum(axis=1)\n",
        "    row_sums[row_sums == 0] = 1\n",
        "    normalizedTransitions = (transitionMatrix.T / row_sums).T\n",
        "\n",
        "    currentProbs = np.array(currentValues)\n",
        "    for iteration in range(iterations):\n",
        "        nextProbs = normalizedTransitions.T @ currentProbs\n",
        "        if np.linalg.norm(nextProbs - currentProbs, ord=2) < treshold:\n",
        "            print(f\"Converged after {iteration + 1} iterations.\")\n",
        "            break\n",
        "        currentProbs = nextProbs\n",
        "\n",
        "    myProbs = {node: prob for node, prob in enumerate(currentProbs)}\n",
        "\n",
        "    visualize_graph(graph, testMine=True, myProbs=myProbs)\n",
        "    visualize_graph(graph)\n",
        "    return normalizedTransitions\n",
        "\n",
        "n_nodes = len(adj)\n",
        "initial_probs = [1 / n_nodes] * n_nodes\n",
        "\n",
        "normalizedTransitions = find_stationary_values(adj, initial_probs)"
      ]
    },
    {
      "cell_type": "markdown",
      "metadata": {
        "id": "V--Z7mwsacZB"
      },
      "source": [
        "You might encounter some dangling nodes in the graph, which are nodes with no outgoing edges. When the random walker reaches such a node, no other node is reachable from it, potentially causing `NaN` values in the normalized transition matrix. To handle this, you can assume that the random walker can move to any other node with equal probability.\n",
        "\n",
        "In the context of the transition matrix, this means that you should adjust the matrix to account for these dangling nodes. Specifically, for dangling nodes, replace the corresponding columns with a uniform distribution, ensuring that each node has an equal chance of being the next node.\n"
      ]
    },
    {
      "cell_type": "markdown",
      "metadata": {
        "id": "UPk7r_oUacZC"
      },
      "source": [
        "## Using decomposition\n",
        "\n",
        "Now that we have achieved a ranking that closely matches the actual values, we can proceed with a new approach.\n",
        "\n",
        "When we reach the stable distribution, the transition matrix $ T $ will no longer affect the current state. In other words, we are looking for a vector $ p $ such that:\n",
        "\n",
        "$ p_t = T p_t $\n",
        "\n",
        "Solving for $ p $ is equivalent to finding the eigenvector corresponding to the eigenvalue 1 of $ T $. To do this, we will use QR decomposition to solve the equation.\n",
        "\n",
        "### Tasks\n",
        "\n",
        "1. **Implement an Efficient System of Equation Solver**:\n",
        "   - Use QR decomposition to solve $ (T - I)p = 0 $, where $ I $ is the identity matrix.\n",
        "   - - To find the null space of $ T - I $, we use the Gram-Schmidt process on $ (T - I)^T $ to obtain an orthonormal basis for the row space of $ T - I $. When examining vectors corresponding to larger diagonal values of $ R $, we can determine that these vectors do contribute significantly to the basis of the row space, while the remaining vectors form the null space. This method provides an approximate solution that is close to the exact answer. However, be aware that dividing by the norm in the Gram-Schmidt process can lead to numerical instability, so increasing the precision of calculations is advisable.\n",
        "\n",
        "2. **Compare Results**:\n",
        "   - Compare the computed $ p $ with the actual values to evaluate the accuracy.\n",
        "\n",
        "For a deeper understanding of the PageRank algorithm, you can watch this video: [PageRank Algorithm](https://www.youtube.com/watch?v=TU0ankRcHmo).\n"
      ]
    },
    {
      "cell_type": "code",
      "execution_count": 14,
      "metadata": {
        "id": "VfFghQxuacZC",
        "outputId": "aa0834d6-451a-43ce-bf66-3a343e0bec2d",
        "colab": {
          "base_uri": "https://localhost:8080/",
          "height": 1000
        }
      },
      "outputs": [
        {
          "output_type": "display_data",
          "data": {
            "text/html": [
              "<html>\n",
              "<head><meta charset=\"utf-8\" /></head>\n",
              "<body>\n",
              "    <div>            <script src=\"https://cdnjs.cloudflare.com/ajax/libs/mathjax/2.7.5/MathJax.js?config=TeX-AMS-MML_SVG\"></script><script type=\"text/javascript\">if (window.MathJax && window.MathJax.Hub && window.MathJax.Hub.Config) {window.MathJax.Hub.Config({SVG: {font: \"STIX-Web\"}});}</script>                <script type=\"text/javascript\">window.PlotlyConfig = {MathJaxConfig: 'local'};</script>\n",
              "        <script charset=\"utf-8\" src=\"https://cdn.plot.ly/plotly-2.35.2.min.js\"></script>                <div id=\"2d3525cd-8303-4c2a-9f8b-7db788e0fc9a\" class=\"plotly-graph-div\" style=\"height:525px; width:100%;\"></div>            <script type=\"text/javascript\">                                    window.PLOTLYENV=window.PLOTLYENV || {};                                    if (document.getElementById(\"2d3525cd-8303-4c2a-9f8b-7db788e0fc9a\")) {                    Plotly.newPlot(                        \"2d3525cd-8303-4c2a-9f8b-7db788e0fc9a\",                        [{\"hoverinfo\":\"none\",\"line\":{\"color\":\"black\",\"width\":1},\"mode\":\"lines\",\"x\":[0.49280293872165615,0.5819005596437867,null,0.49280293872165615,-0.41011331407350204,null,0.49280293872165615,0.08055355372840142,null,-0.32289985695893986,-0.37392948641028173,null,-0.32289985695893986,-0.7773178740649244,null,-0.37392948641028173,0.5819005596437867,null,-0.37392948641028173,-0.7773178740649244,null,0.5819005596437867,0.49280293872165615,null,0.5819005596437867,-0.37392948641028173,null,0.5819005596437867,-0.11027245133337342,null,0.5819005596437867,0.663768726545127,null,-0.41011331407350204,-0.37392948641028173,null,-0.41011331407350204,0.08055355372840142,null,0.08055355372840142,0.5819005596437867,null,0.08055355372840142,-0.41011331407350204,null,0.08055355372840142,0.17550720420205157,null,0.08055355372840142,-0.7773178740649244,null,-0.11027245133337342,-0.37392948641028173,null,-0.11027245133337342,-0.7773178740649244,null,0.17550720420205157,0.5819005596437867,null,0.17550720420205157,-0.41011331407350204,null,0.17550720420205157,0.08055355372840142,null,0.17550720420205157,-0.7773178740649244,null,0.17550720420205157,0.663768726545127,null,-0.7773178740649244,0.17550720420205157,null,0.663768726545127,-0.11027245133337342,null],\"y\":[0.6889151570001888,-0.21663154453534728,null,0.6889151570001888,0.6799306961967194,null,0.6889151570001888,0.39018025103424436,null,0.3968932406397607,-0.4443537199671442,null,0.3968932406397607,0.013328308098415778,null,-0.4443537199671442,-0.21663154453534728,null,-0.4443537199671442,0.013328308098415778,null,-0.21663154453534728,0.6889151570001888,null,-0.21663154453534728,-0.4443537199671442,null,-0.21663154453534728,-0.47778071539318107,null,-0.21663154453534728,-1.0,null,0.6799306961967194,-0.4443537199671442,null,0.6799306961967194,0.39018025103424436,null,0.39018025103424436,-0.21663154453534728,null,0.39018025103424436,0.6799306961967194,null,0.39018025103424436,-0.030481673073655575,null,0.39018025103424436,0.013328308098415778,null,-0.47778071539318107,-0.4443537199671442,null,-0.47778071539318107,0.013328308098415778,null,-0.030481673073655575,-0.21663154453534728,null,-0.030481673073655575,0.6799306961967194,null,-0.030481673073655575,0.39018025103424436,null,-0.030481673073655575,0.013328308098415778,null,-0.030481673073655575,-1.0,null,0.013328308098415778,-0.030481673073655575,null,-1.0,-0.47778071539318107,null],\"type\":\"scatter\"},{\"hoverinfo\":\"none\",\"marker\":{\"angle\":-90,\"color\":\"black\",\"size\":8,\"symbol\":\"triangle-up\"},\"mode\":\"markers\",\"x\":[0.5373517491827214,0.04134481232407705,0.2866782462250288,-0.3484146716846108,-0.5501088655119322,0.1039855366167525,-0.575623680237603,0.5373517491827214,0.1039855366167525,0.23581405415520665,0.6228346430944569,-0.3920214002418919,-0.1647798801725503,0.3312270566860941,-0.1647798801725503,0.1280303789652265,-0.34838216016826146,-0.24210096887182758,-0.44379516269914887,0.37870388192291915,-0.11730305493572524,0.1280303789652265,-0.3009053349314364,0.4196379653735893,-0.3009053349314364,0.2767481376058768],\"y\":[0.23614180623242076,0.684422926598454,0.5395477040172165,-0.023730239663691727,0.20511077436908826,-0.3304926322512457,-0.2155127059343642,0.23614180623242076,-0.3304926322512457,-0.34720612996426414,-0.6083157722676736,0.11778848811478762,0.5350554736154819,0.08677435324944854,0.5350554736154819,0.1798492889802944,0.20175427956633007,-0.4610672176801626,-0.23222620364738264,-0.12355660880450142,0.3247245115615319,0.1798492889802944,-0.008576682487619898,-0.5152408365368278,-0.008576682487619898,-0.7388903576965905],\"type\":\"scatter\"},{\"hoverinfo\":\"text\",\"marker\":{\"color\":[0.0,0.0,0.0,0.0,0.0,0.0,0.0,0.0,0.0,0.0],\"colorbar\":{\"thickness\":15,\"title\":{\"side\":\"right\",\"text\":\"PageRank Value\"},\"xanchor\":\"left\"},\"colorscale\":[[0.0,\"rgb(255,255,217)\"],[0.125,\"rgb(237,248,177)\"],[0.25,\"rgb(199,233,180)\"],[0.375,\"rgb(127,205,187)\"],[0.5,\"rgb(65,182,196)\"],[0.625,\"rgb(29,145,192)\"],[0.75,\"rgb(34,94,168)\"],[0.875,\"rgb(37,52,148)\"],[1.0,\"rgb(8,29,88)\"]],\"line\":{\"width\":2},\"showscale\":true,\"size\":20},\"mode\":\"markers\",\"text\":[\"Page 0 - PageRank: 0.000\",\"Page 1 - PageRank: 0.000\",\"Page 2 - PageRank: 0.000\",\"Page 3 - PageRank: 0.000\",\"Page 4 - PageRank: 0.000\",\"Page 5 - PageRank: 0.000\",\"Page 6 - PageRank: 0.000\",\"Page 7 - PageRank: 0.000\",\"Page 8 - PageRank: 0.000\",\"Page 9 - PageRank: 0.000\"],\"x\":[0.49280293872165615,-0.32289985695893986,-0.37392948641028173,0.5819005596437867,-0.41011331407350204,0.08055355372840142,-0.11027245133337342,0.17550720420205157,-0.7773178740649244,0.663768726545127],\"y\":[0.6889151570001888,0.3968932406397607,-0.4443537199671442,-0.21663154453534728,0.6799306961967194,0.39018025103424436,-0.47778071539318107,-0.030481673073655575,0.013328308098415778,-1.0],\"type\":\"scatter\"}],                        {\"annotations\":[{\"showarrow\":false,\"text\":\"Directed graph representing webpage linkages\",\"x\":0.005,\"xref\":\"paper\",\"y\":-0.002,\"yref\":\"paper\"}],\"hovermode\":\"closest\",\"margin\":{\"b\":0,\"l\":0,\"r\":0,\"t\":40},\"showlegend\":false,\"title\":{\"font\":{\"size\":16},\"text\":\"Webpage Linkage Graph (PageRank Visualization)\"},\"xaxis\":{\"showgrid\":false,\"zeroline\":false},\"yaxis\":{\"showgrid\":false,\"zeroline\":false},\"template\":{\"data\":{\"histogram2dcontour\":[{\"type\":\"histogram2dcontour\",\"colorbar\":{\"outlinewidth\":0,\"ticks\":\"\"},\"colorscale\":[[0.0,\"#0d0887\"],[0.1111111111111111,\"#46039f\"],[0.2222222222222222,\"#7201a8\"],[0.3333333333333333,\"#9c179e\"],[0.4444444444444444,\"#bd3786\"],[0.5555555555555556,\"#d8576b\"],[0.6666666666666666,\"#ed7953\"],[0.7777777777777778,\"#fb9f3a\"],[0.8888888888888888,\"#fdca26\"],[1.0,\"#f0f921\"]]}],\"choropleth\":[{\"type\":\"choropleth\",\"colorbar\":{\"outlinewidth\":0,\"ticks\":\"\"}}],\"histogram2d\":[{\"type\":\"histogram2d\",\"colorbar\":{\"outlinewidth\":0,\"ticks\":\"\"},\"colorscale\":[[0.0,\"#0d0887\"],[0.1111111111111111,\"#46039f\"],[0.2222222222222222,\"#7201a8\"],[0.3333333333333333,\"#9c179e\"],[0.4444444444444444,\"#bd3786\"],[0.5555555555555556,\"#d8576b\"],[0.6666666666666666,\"#ed7953\"],[0.7777777777777778,\"#fb9f3a\"],[0.8888888888888888,\"#fdca26\"],[1.0,\"#f0f921\"]]}],\"heatmap\":[{\"type\":\"heatmap\",\"colorbar\":{\"outlinewidth\":0,\"ticks\":\"\"},\"colorscale\":[[0.0,\"#0d0887\"],[0.1111111111111111,\"#46039f\"],[0.2222222222222222,\"#7201a8\"],[0.3333333333333333,\"#9c179e\"],[0.4444444444444444,\"#bd3786\"],[0.5555555555555556,\"#d8576b\"],[0.6666666666666666,\"#ed7953\"],[0.7777777777777778,\"#fb9f3a\"],[0.8888888888888888,\"#fdca26\"],[1.0,\"#f0f921\"]]}],\"heatmapgl\":[{\"type\":\"heatmapgl\",\"colorbar\":{\"outlinewidth\":0,\"ticks\":\"\"},\"colorscale\":[[0.0,\"#0d0887\"],[0.1111111111111111,\"#46039f\"],[0.2222222222222222,\"#7201a8\"],[0.3333333333333333,\"#9c179e\"],[0.4444444444444444,\"#bd3786\"],[0.5555555555555556,\"#d8576b\"],[0.6666666666666666,\"#ed7953\"],[0.7777777777777778,\"#fb9f3a\"],[0.8888888888888888,\"#fdca26\"],[1.0,\"#f0f921\"]]}],\"contourcarpet\":[{\"type\":\"contourcarpet\",\"colorbar\":{\"outlinewidth\":0,\"ticks\":\"\"}}],\"contour\":[{\"type\":\"contour\",\"colorbar\":{\"outlinewidth\":0,\"ticks\":\"\"},\"colorscale\":[[0.0,\"#0d0887\"],[0.1111111111111111,\"#46039f\"],[0.2222222222222222,\"#7201a8\"],[0.3333333333333333,\"#9c179e\"],[0.4444444444444444,\"#bd3786\"],[0.5555555555555556,\"#d8576b\"],[0.6666666666666666,\"#ed7953\"],[0.7777777777777778,\"#fb9f3a\"],[0.8888888888888888,\"#fdca26\"],[1.0,\"#f0f921\"]]}],\"surface\":[{\"type\":\"surface\",\"colorbar\":{\"outlinewidth\":0,\"ticks\":\"\"},\"colorscale\":[[0.0,\"#0d0887\"],[0.1111111111111111,\"#46039f\"],[0.2222222222222222,\"#7201a8\"],[0.3333333333333333,\"#9c179e\"],[0.4444444444444444,\"#bd3786\"],[0.5555555555555556,\"#d8576b\"],[0.6666666666666666,\"#ed7953\"],[0.7777777777777778,\"#fb9f3a\"],[0.8888888888888888,\"#fdca26\"],[1.0,\"#f0f921\"]]}],\"mesh3d\":[{\"type\":\"mesh3d\",\"colorbar\":{\"outlinewidth\":0,\"ticks\":\"\"}}],\"scatter\":[{\"fillpattern\":{\"fillmode\":\"overlay\",\"size\":10,\"solidity\":0.2},\"type\":\"scatter\"}],\"parcoords\":[{\"type\":\"parcoords\",\"line\":{\"colorbar\":{\"outlinewidth\":0,\"ticks\":\"\"}}}],\"scatterpolargl\":[{\"type\":\"scatterpolargl\",\"marker\":{\"colorbar\":{\"outlinewidth\":0,\"ticks\":\"\"}}}],\"bar\":[{\"error_x\":{\"color\":\"#2a3f5f\"},\"error_y\":{\"color\":\"#2a3f5f\"},\"marker\":{\"line\":{\"color\":\"#E5ECF6\",\"width\":0.5},\"pattern\":{\"fillmode\":\"overlay\",\"size\":10,\"solidity\":0.2}},\"type\":\"bar\"}],\"scattergeo\":[{\"type\":\"scattergeo\",\"marker\":{\"colorbar\":{\"outlinewidth\":0,\"ticks\":\"\"}}}],\"scatterpolar\":[{\"type\":\"scatterpolar\",\"marker\":{\"colorbar\":{\"outlinewidth\":0,\"ticks\":\"\"}}}],\"histogram\":[{\"marker\":{\"pattern\":{\"fillmode\":\"overlay\",\"size\":10,\"solidity\":0.2}},\"type\":\"histogram\"}],\"scattergl\":[{\"type\":\"scattergl\",\"marker\":{\"colorbar\":{\"outlinewidth\":0,\"ticks\":\"\"}}}],\"scatter3d\":[{\"type\":\"scatter3d\",\"line\":{\"colorbar\":{\"outlinewidth\":0,\"ticks\":\"\"}},\"marker\":{\"colorbar\":{\"outlinewidth\":0,\"ticks\":\"\"}}}],\"scattermapbox\":[{\"type\":\"scattermapbox\",\"marker\":{\"colorbar\":{\"outlinewidth\":0,\"ticks\":\"\"}}}],\"scatterternary\":[{\"type\":\"scatterternary\",\"marker\":{\"colorbar\":{\"outlinewidth\":0,\"ticks\":\"\"}}}],\"scattercarpet\":[{\"type\":\"scattercarpet\",\"marker\":{\"colorbar\":{\"outlinewidth\":0,\"ticks\":\"\"}}}],\"carpet\":[{\"aaxis\":{\"endlinecolor\":\"#2a3f5f\",\"gridcolor\":\"white\",\"linecolor\":\"white\",\"minorgridcolor\":\"white\",\"startlinecolor\":\"#2a3f5f\"},\"baxis\":{\"endlinecolor\":\"#2a3f5f\",\"gridcolor\":\"white\",\"linecolor\":\"white\",\"minorgridcolor\":\"white\",\"startlinecolor\":\"#2a3f5f\"},\"type\":\"carpet\"}],\"table\":[{\"cells\":{\"fill\":{\"color\":\"#EBF0F8\"},\"line\":{\"color\":\"white\"}},\"header\":{\"fill\":{\"color\":\"#C8D4E3\"},\"line\":{\"color\":\"white\"}},\"type\":\"table\"}],\"barpolar\":[{\"marker\":{\"line\":{\"color\":\"#E5ECF6\",\"width\":0.5},\"pattern\":{\"fillmode\":\"overlay\",\"size\":10,\"solidity\":0.2}},\"type\":\"barpolar\"}],\"pie\":[{\"automargin\":true,\"type\":\"pie\"}]},\"layout\":{\"autotypenumbers\":\"strict\",\"colorway\":[\"#636efa\",\"#EF553B\",\"#00cc96\",\"#ab63fa\",\"#FFA15A\",\"#19d3f3\",\"#FF6692\",\"#B6E880\",\"#FF97FF\",\"#FECB52\"],\"font\":{\"color\":\"#2a3f5f\"},\"hovermode\":\"closest\",\"hoverlabel\":{\"align\":\"left\"},\"paper_bgcolor\":\"white\",\"plot_bgcolor\":\"#E5ECF6\",\"polar\":{\"bgcolor\":\"#E5ECF6\",\"angularaxis\":{\"gridcolor\":\"white\",\"linecolor\":\"white\",\"ticks\":\"\"},\"radialaxis\":{\"gridcolor\":\"white\",\"linecolor\":\"white\",\"ticks\":\"\"}},\"ternary\":{\"bgcolor\":\"#E5ECF6\",\"aaxis\":{\"gridcolor\":\"white\",\"linecolor\":\"white\",\"ticks\":\"\"},\"baxis\":{\"gridcolor\":\"white\",\"linecolor\":\"white\",\"ticks\":\"\"},\"caxis\":{\"gridcolor\":\"white\",\"linecolor\":\"white\",\"ticks\":\"\"}},\"coloraxis\":{\"colorbar\":{\"outlinewidth\":0,\"ticks\":\"\"}},\"colorscale\":{\"sequential\":[[0.0,\"#0d0887\"],[0.1111111111111111,\"#46039f\"],[0.2222222222222222,\"#7201a8\"],[0.3333333333333333,\"#9c179e\"],[0.4444444444444444,\"#bd3786\"],[0.5555555555555556,\"#d8576b\"],[0.6666666666666666,\"#ed7953\"],[0.7777777777777778,\"#fb9f3a\"],[0.8888888888888888,\"#fdca26\"],[1.0,\"#f0f921\"]],\"sequentialminus\":[[0.0,\"#0d0887\"],[0.1111111111111111,\"#46039f\"],[0.2222222222222222,\"#7201a8\"],[0.3333333333333333,\"#9c179e\"],[0.4444444444444444,\"#bd3786\"],[0.5555555555555556,\"#d8576b\"],[0.6666666666666666,\"#ed7953\"],[0.7777777777777778,\"#fb9f3a\"],[0.8888888888888888,\"#fdca26\"],[1.0,\"#f0f921\"]],\"diverging\":[[0,\"#8e0152\"],[0.1,\"#c51b7d\"],[0.2,\"#de77ae\"],[0.3,\"#f1b6da\"],[0.4,\"#fde0ef\"],[0.5,\"#f7f7f7\"],[0.6,\"#e6f5d0\"],[0.7,\"#b8e186\"],[0.8,\"#7fbc41\"],[0.9,\"#4d9221\"],[1,\"#276419\"]]},\"xaxis\":{\"gridcolor\":\"white\",\"linecolor\":\"white\",\"ticks\":\"\",\"title\":{\"standoff\":15},\"zerolinecolor\":\"white\",\"automargin\":true,\"zerolinewidth\":2},\"yaxis\":{\"gridcolor\":\"white\",\"linecolor\":\"white\",\"ticks\":\"\",\"title\":{\"standoff\":15},\"zerolinecolor\":\"white\",\"automargin\":true,\"zerolinewidth\":2},\"scene\":{\"xaxis\":{\"backgroundcolor\":\"#E5ECF6\",\"gridcolor\":\"white\",\"linecolor\":\"white\",\"showbackground\":true,\"ticks\":\"\",\"zerolinecolor\":\"white\",\"gridwidth\":2},\"yaxis\":{\"backgroundcolor\":\"#E5ECF6\",\"gridcolor\":\"white\",\"linecolor\":\"white\",\"showbackground\":true,\"ticks\":\"\",\"zerolinecolor\":\"white\",\"gridwidth\":2},\"zaxis\":{\"backgroundcolor\":\"#E5ECF6\",\"gridcolor\":\"white\",\"linecolor\":\"white\",\"showbackground\":true,\"ticks\":\"\",\"zerolinecolor\":\"white\",\"gridwidth\":2}},\"shapedefaults\":{\"line\":{\"color\":\"#2a3f5f\"}},\"annotationdefaults\":{\"arrowcolor\":\"#2a3f5f\",\"arrowhead\":0,\"arrowwidth\":1},\"geo\":{\"bgcolor\":\"white\",\"landcolor\":\"#E5ECF6\",\"subunitcolor\":\"white\",\"showland\":true,\"showlakes\":true,\"lakecolor\":\"white\"},\"title\":{\"x\":0.05},\"mapbox\":{\"style\":\"light\"}}}},                        {\"responsive\": true}                    ).then(function(){\n",
              "                            \n",
              "var gd = document.getElementById('2d3525cd-8303-4c2a-9f8b-7db788e0fc9a');\n",
              "var x = new MutationObserver(function (mutations, observer) {{\n",
              "        var display = window.getComputedStyle(gd).display;\n",
              "        if (!display || display === 'none') {{\n",
              "            console.log([gd, 'removed!']);\n",
              "            Plotly.purge(gd);\n",
              "            observer.disconnect();\n",
              "        }}\n",
              "}});\n",
              "\n",
              "// Listen for the removal of the full notebook cells\n",
              "var notebookContainer = gd.closest('#notebook-container');\n",
              "if (notebookContainer) {{\n",
              "    x.observe(notebookContainer, {childList: true});\n",
              "}}\n",
              "\n",
              "// Listen for the clearing of the current output cell\n",
              "var outputEl = gd.closest('.output');\n",
              "if (outputEl) {{\n",
              "    x.observe(outputEl, {childList: true});\n",
              "}}\n",
              "\n",
              "                        })                };                            </script>        </div>\n",
              "</body>\n",
              "</html>"
            ]
          },
          "metadata": {}
        },
        {
          "output_type": "display_data",
          "data": {
            "text/html": [
              "<html>\n",
              "<head><meta charset=\"utf-8\" /></head>\n",
              "<body>\n",
              "    <div>            <script src=\"https://cdnjs.cloudflare.com/ajax/libs/mathjax/2.7.5/MathJax.js?config=TeX-AMS-MML_SVG\"></script><script type=\"text/javascript\">if (window.MathJax && window.MathJax.Hub && window.MathJax.Hub.Config) {window.MathJax.Hub.Config({SVG: {font: \"STIX-Web\"}});}</script>                <script type=\"text/javascript\">window.PlotlyConfig = {MathJaxConfig: 'local'};</script>\n",
              "        <script charset=\"utf-8\" src=\"https://cdn.plot.ly/plotly-2.35.2.min.js\"></script>                <div id=\"2c8f7462-ba3e-4f32-9111-a0afb462c8c2\" class=\"plotly-graph-div\" style=\"height:525px; width:100%;\"></div>            <script type=\"text/javascript\">                                    window.PLOTLYENV=window.PLOTLYENV || {};                                    if (document.getElementById(\"2c8f7462-ba3e-4f32-9111-a0afb462c8c2\")) {                    Plotly.newPlot(                        \"2c8f7462-ba3e-4f32-9111-a0afb462c8c2\",                        [{\"hoverinfo\":\"none\",\"line\":{\"color\":\"black\",\"width\":1},\"mode\":\"lines\",\"x\":[0.49280293872165615,0.5819005596437867,null,0.49280293872165615,-0.41011331407350204,null,0.49280293872165615,0.08055355372840142,null,-0.32289985695893986,-0.37392948641028173,null,-0.32289985695893986,-0.7773178740649244,null,-0.37392948641028173,0.5819005596437867,null,-0.37392948641028173,-0.7773178740649244,null,0.5819005596437867,0.49280293872165615,null,0.5819005596437867,-0.37392948641028173,null,0.5819005596437867,-0.11027245133337342,null,0.5819005596437867,0.663768726545127,null,-0.41011331407350204,-0.37392948641028173,null,-0.41011331407350204,0.08055355372840142,null,0.08055355372840142,0.5819005596437867,null,0.08055355372840142,-0.41011331407350204,null,0.08055355372840142,0.17550720420205157,null,0.08055355372840142,-0.7773178740649244,null,-0.11027245133337342,-0.37392948641028173,null,-0.11027245133337342,-0.7773178740649244,null,0.17550720420205157,0.5819005596437867,null,0.17550720420205157,-0.41011331407350204,null,0.17550720420205157,0.08055355372840142,null,0.17550720420205157,-0.7773178740649244,null,0.17550720420205157,0.663768726545127,null,-0.7773178740649244,0.17550720420205157,null,0.663768726545127,-0.11027245133337342,null],\"y\":[0.6889151570001888,-0.21663154453534728,null,0.6889151570001888,0.6799306961967194,null,0.6889151570001888,0.39018025103424436,null,0.3968932406397607,-0.4443537199671442,null,0.3968932406397607,0.013328308098415778,null,-0.4443537199671442,-0.21663154453534728,null,-0.4443537199671442,0.013328308098415778,null,-0.21663154453534728,0.6889151570001888,null,-0.21663154453534728,-0.4443537199671442,null,-0.21663154453534728,-0.47778071539318107,null,-0.21663154453534728,-1.0,null,0.6799306961967194,-0.4443537199671442,null,0.6799306961967194,0.39018025103424436,null,0.39018025103424436,-0.21663154453534728,null,0.39018025103424436,0.6799306961967194,null,0.39018025103424436,-0.030481673073655575,null,0.39018025103424436,0.013328308098415778,null,-0.47778071539318107,-0.4443537199671442,null,-0.47778071539318107,0.013328308098415778,null,-0.030481673073655575,-0.21663154453534728,null,-0.030481673073655575,0.6799306961967194,null,-0.030481673073655575,0.39018025103424436,null,-0.030481673073655575,0.013328308098415778,null,-0.030481673073655575,-1.0,null,0.013328308098415778,-0.030481673073655575,null,-1.0,-0.47778071539318107,null],\"type\":\"scatter\"},{\"hoverinfo\":\"none\",\"marker\":{\"angle\":-90,\"color\":\"black\",\"size\":8,\"symbol\":\"triangle-up\"},\"mode\":\"markers\",\"x\":[0.5373517491827214,0.04134481232407705,0.2866782462250288,-0.3484146716846108,-0.5501088655119322,0.1039855366167525,-0.575623680237603,0.5373517491827214,0.1039855366167525,0.23581405415520665,0.6228346430944569,-0.3920214002418919,-0.1647798801725503,0.3312270566860941,-0.1647798801725503,0.1280303789652265,-0.34838216016826146,-0.24210096887182758,-0.44379516269914887,0.37870388192291915,-0.11730305493572524,0.1280303789652265,-0.3009053349314364,0.4196379653735893,-0.3009053349314364,0.2767481376058768],\"y\":[0.23614180623242076,0.684422926598454,0.5395477040172165,-0.023730239663691727,0.20511077436908826,-0.3304926322512457,-0.2155127059343642,0.23614180623242076,-0.3304926322512457,-0.34720612996426414,-0.6083157722676736,0.11778848811478762,0.5350554736154819,0.08677435324944854,0.5350554736154819,0.1798492889802944,0.20175427956633007,-0.4610672176801626,-0.23222620364738264,-0.12355660880450142,0.3247245115615319,0.1798492889802944,-0.008576682487619898,-0.5152408365368278,-0.008576682487619898,-0.7388903576965905],\"type\":\"scatter\"},{\"hoverinfo\":\"text\",\"marker\":{\"color\":[0.0425168059198347,0.015000000000000003,0.12554321034792046,0.12949081862956055,0.07613582752036031,0.08947926888742878,0.10422074365583944,0.17690873058170248,0.16811287135386818,0.07259172310348536],\"colorbar\":{\"thickness\":15,\"title\":{\"side\":\"right\",\"text\":\"PageRank Value\"},\"xanchor\":\"left\"},\"colorscale\":[[0.0,\"rgb(255,255,217)\"],[0.125,\"rgb(237,248,177)\"],[0.25,\"rgb(199,233,180)\"],[0.375,\"rgb(127,205,187)\"],[0.5,\"rgb(65,182,196)\"],[0.625,\"rgb(29,145,192)\"],[0.75,\"rgb(34,94,168)\"],[0.875,\"rgb(37,52,148)\"],[1.0,\"rgb(8,29,88)\"]],\"line\":{\"width\":2},\"showscale\":true,\"size\":20},\"mode\":\"markers\",\"text\":[\"Page 0 - PageRank: 0.043\",\"Page 1 - PageRank: 0.015\",\"Page 2 - PageRank: 0.126\",\"Page 3 - PageRank: 0.129\",\"Page 4 - PageRank: 0.076\",\"Page 5 - PageRank: 0.089\",\"Page 6 - PageRank: 0.104\",\"Page 7 - PageRank: 0.177\",\"Page 8 - PageRank: 0.168\",\"Page 9 - PageRank: 0.073\"],\"x\":[0.49280293872165615,-0.32289985695893986,-0.37392948641028173,0.5819005596437867,-0.41011331407350204,0.08055355372840142,-0.11027245133337342,0.17550720420205157,-0.7773178740649244,0.663768726545127],\"y\":[0.6889151570001888,0.3968932406397607,-0.4443537199671442,-0.21663154453534728,0.6799306961967194,0.39018025103424436,-0.47778071539318107,-0.030481673073655575,0.013328308098415778,-1.0],\"type\":\"scatter\"}],                        {\"annotations\":[{\"showarrow\":false,\"text\":\"Directed graph representing webpage linkages\",\"x\":0.005,\"xref\":\"paper\",\"y\":-0.002,\"yref\":\"paper\"}],\"hovermode\":\"closest\",\"margin\":{\"b\":0,\"l\":0,\"r\":0,\"t\":40},\"showlegend\":false,\"title\":{\"font\":{\"size\":16},\"text\":\"Webpage Linkage Graph (PageRank Visualization)\"},\"xaxis\":{\"showgrid\":false,\"zeroline\":false},\"yaxis\":{\"showgrid\":false,\"zeroline\":false},\"template\":{\"data\":{\"histogram2dcontour\":[{\"type\":\"histogram2dcontour\",\"colorbar\":{\"outlinewidth\":0,\"ticks\":\"\"},\"colorscale\":[[0.0,\"#0d0887\"],[0.1111111111111111,\"#46039f\"],[0.2222222222222222,\"#7201a8\"],[0.3333333333333333,\"#9c179e\"],[0.4444444444444444,\"#bd3786\"],[0.5555555555555556,\"#d8576b\"],[0.6666666666666666,\"#ed7953\"],[0.7777777777777778,\"#fb9f3a\"],[0.8888888888888888,\"#fdca26\"],[1.0,\"#f0f921\"]]}],\"choropleth\":[{\"type\":\"choropleth\",\"colorbar\":{\"outlinewidth\":0,\"ticks\":\"\"}}],\"histogram2d\":[{\"type\":\"histogram2d\",\"colorbar\":{\"outlinewidth\":0,\"ticks\":\"\"},\"colorscale\":[[0.0,\"#0d0887\"],[0.1111111111111111,\"#46039f\"],[0.2222222222222222,\"#7201a8\"],[0.3333333333333333,\"#9c179e\"],[0.4444444444444444,\"#bd3786\"],[0.5555555555555556,\"#d8576b\"],[0.6666666666666666,\"#ed7953\"],[0.7777777777777778,\"#fb9f3a\"],[0.8888888888888888,\"#fdca26\"],[1.0,\"#f0f921\"]]}],\"heatmap\":[{\"type\":\"heatmap\",\"colorbar\":{\"outlinewidth\":0,\"ticks\":\"\"},\"colorscale\":[[0.0,\"#0d0887\"],[0.1111111111111111,\"#46039f\"],[0.2222222222222222,\"#7201a8\"],[0.3333333333333333,\"#9c179e\"],[0.4444444444444444,\"#bd3786\"],[0.5555555555555556,\"#d8576b\"],[0.6666666666666666,\"#ed7953\"],[0.7777777777777778,\"#fb9f3a\"],[0.8888888888888888,\"#fdca26\"],[1.0,\"#f0f921\"]]}],\"heatmapgl\":[{\"type\":\"heatmapgl\",\"colorbar\":{\"outlinewidth\":0,\"ticks\":\"\"},\"colorscale\":[[0.0,\"#0d0887\"],[0.1111111111111111,\"#46039f\"],[0.2222222222222222,\"#7201a8\"],[0.3333333333333333,\"#9c179e\"],[0.4444444444444444,\"#bd3786\"],[0.5555555555555556,\"#d8576b\"],[0.6666666666666666,\"#ed7953\"],[0.7777777777777778,\"#fb9f3a\"],[0.8888888888888888,\"#fdca26\"],[1.0,\"#f0f921\"]]}],\"contourcarpet\":[{\"type\":\"contourcarpet\",\"colorbar\":{\"outlinewidth\":0,\"ticks\":\"\"}}],\"contour\":[{\"type\":\"contour\",\"colorbar\":{\"outlinewidth\":0,\"ticks\":\"\"},\"colorscale\":[[0.0,\"#0d0887\"],[0.1111111111111111,\"#46039f\"],[0.2222222222222222,\"#7201a8\"],[0.3333333333333333,\"#9c179e\"],[0.4444444444444444,\"#bd3786\"],[0.5555555555555556,\"#d8576b\"],[0.6666666666666666,\"#ed7953\"],[0.7777777777777778,\"#fb9f3a\"],[0.8888888888888888,\"#fdca26\"],[1.0,\"#f0f921\"]]}],\"surface\":[{\"type\":\"surface\",\"colorbar\":{\"outlinewidth\":0,\"ticks\":\"\"},\"colorscale\":[[0.0,\"#0d0887\"],[0.1111111111111111,\"#46039f\"],[0.2222222222222222,\"#7201a8\"],[0.3333333333333333,\"#9c179e\"],[0.4444444444444444,\"#bd3786\"],[0.5555555555555556,\"#d8576b\"],[0.6666666666666666,\"#ed7953\"],[0.7777777777777778,\"#fb9f3a\"],[0.8888888888888888,\"#fdca26\"],[1.0,\"#f0f921\"]]}],\"mesh3d\":[{\"type\":\"mesh3d\",\"colorbar\":{\"outlinewidth\":0,\"ticks\":\"\"}}],\"scatter\":[{\"fillpattern\":{\"fillmode\":\"overlay\",\"size\":10,\"solidity\":0.2},\"type\":\"scatter\"}],\"parcoords\":[{\"type\":\"parcoords\",\"line\":{\"colorbar\":{\"outlinewidth\":0,\"ticks\":\"\"}}}],\"scatterpolargl\":[{\"type\":\"scatterpolargl\",\"marker\":{\"colorbar\":{\"outlinewidth\":0,\"ticks\":\"\"}}}],\"bar\":[{\"error_x\":{\"color\":\"#2a3f5f\"},\"error_y\":{\"color\":\"#2a3f5f\"},\"marker\":{\"line\":{\"color\":\"#E5ECF6\",\"width\":0.5},\"pattern\":{\"fillmode\":\"overlay\",\"size\":10,\"solidity\":0.2}},\"type\":\"bar\"}],\"scattergeo\":[{\"type\":\"scattergeo\",\"marker\":{\"colorbar\":{\"outlinewidth\":0,\"ticks\":\"\"}}}],\"scatterpolar\":[{\"type\":\"scatterpolar\",\"marker\":{\"colorbar\":{\"outlinewidth\":0,\"ticks\":\"\"}}}],\"histogram\":[{\"marker\":{\"pattern\":{\"fillmode\":\"overlay\",\"size\":10,\"solidity\":0.2}},\"type\":\"histogram\"}],\"scattergl\":[{\"type\":\"scattergl\",\"marker\":{\"colorbar\":{\"outlinewidth\":0,\"ticks\":\"\"}}}],\"scatter3d\":[{\"type\":\"scatter3d\",\"line\":{\"colorbar\":{\"outlinewidth\":0,\"ticks\":\"\"}},\"marker\":{\"colorbar\":{\"outlinewidth\":0,\"ticks\":\"\"}}}],\"scattermapbox\":[{\"type\":\"scattermapbox\",\"marker\":{\"colorbar\":{\"outlinewidth\":0,\"ticks\":\"\"}}}],\"scatterternary\":[{\"type\":\"scatterternary\",\"marker\":{\"colorbar\":{\"outlinewidth\":0,\"ticks\":\"\"}}}],\"scattercarpet\":[{\"type\":\"scattercarpet\",\"marker\":{\"colorbar\":{\"outlinewidth\":0,\"ticks\":\"\"}}}],\"carpet\":[{\"aaxis\":{\"endlinecolor\":\"#2a3f5f\",\"gridcolor\":\"white\",\"linecolor\":\"white\",\"minorgridcolor\":\"white\",\"startlinecolor\":\"#2a3f5f\"},\"baxis\":{\"endlinecolor\":\"#2a3f5f\",\"gridcolor\":\"white\",\"linecolor\":\"white\",\"minorgridcolor\":\"white\",\"startlinecolor\":\"#2a3f5f\"},\"type\":\"carpet\"}],\"table\":[{\"cells\":{\"fill\":{\"color\":\"#EBF0F8\"},\"line\":{\"color\":\"white\"}},\"header\":{\"fill\":{\"color\":\"#C8D4E3\"},\"line\":{\"color\":\"white\"}},\"type\":\"table\"}],\"barpolar\":[{\"marker\":{\"line\":{\"color\":\"#E5ECF6\",\"width\":0.5},\"pattern\":{\"fillmode\":\"overlay\",\"size\":10,\"solidity\":0.2}},\"type\":\"barpolar\"}],\"pie\":[{\"automargin\":true,\"type\":\"pie\"}]},\"layout\":{\"autotypenumbers\":\"strict\",\"colorway\":[\"#636efa\",\"#EF553B\",\"#00cc96\",\"#ab63fa\",\"#FFA15A\",\"#19d3f3\",\"#FF6692\",\"#B6E880\",\"#FF97FF\",\"#FECB52\"],\"font\":{\"color\":\"#2a3f5f\"},\"hovermode\":\"closest\",\"hoverlabel\":{\"align\":\"left\"},\"paper_bgcolor\":\"white\",\"plot_bgcolor\":\"#E5ECF6\",\"polar\":{\"bgcolor\":\"#E5ECF6\",\"angularaxis\":{\"gridcolor\":\"white\",\"linecolor\":\"white\",\"ticks\":\"\"},\"radialaxis\":{\"gridcolor\":\"white\",\"linecolor\":\"white\",\"ticks\":\"\"}},\"ternary\":{\"bgcolor\":\"#E5ECF6\",\"aaxis\":{\"gridcolor\":\"white\",\"linecolor\":\"white\",\"ticks\":\"\"},\"baxis\":{\"gridcolor\":\"white\",\"linecolor\":\"white\",\"ticks\":\"\"},\"caxis\":{\"gridcolor\":\"white\",\"linecolor\":\"white\",\"ticks\":\"\"}},\"coloraxis\":{\"colorbar\":{\"outlinewidth\":0,\"ticks\":\"\"}},\"colorscale\":{\"sequential\":[[0.0,\"#0d0887\"],[0.1111111111111111,\"#46039f\"],[0.2222222222222222,\"#7201a8\"],[0.3333333333333333,\"#9c179e\"],[0.4444444444444444,\"#bd3786\"],[0.5555555555555556,\"#d8576b\"],[0.6666666666666666,\"#ed7953\"],[0.7777777777777778,\"#fb9f3a\"],[0.8888888888888888,\"#fdca26\"],[1.0,\"#f0f921\"]],\"sequentialminus\":[[0.0,\"#0d0887\"],[0.1111111111111111,\"#46039f\"],[0.2222222222222222,\"#7201a8\"],[0.3333333333333333,\"#9c179e\"],[0.4444444444444444,\"#bd3786\"],[0.5555555555555556,\"#d8576b\"],[0.6666666666666666,\"#ed7953\"],[0.7777777777777778,\"#fb9f3a\"],[0.8888888888888888,\"#fdca26\"],[1.0,\"#f0f921\"]],\"diverging\":[[0,\"#8e0152\"],[0.1,\"#c51b7d\"],[0.2,\"#de77ae\"],[0.3,\"#f1b6da\"],[0.4,\"#fde0ef\"],[0.5,\"#f7f7f7\"],[0.6,\"#e6f5d0\"],[0.7,\"#b8e186\"],[0.8,\"#7fbc41\"],[0.9,\"#4d9221\"],[1,\"#276419\"]]},\"xaxis\":{\"gridcolor\":\"white\",\"linecolor\":\"white\",\"ticks\":\"\",\"title\":{\"standoff\":15},\"zerolinecolor\":\"white\",\"automargin\":true,\"zerolinewidth\":2},\"yaxis\":{\"gridcolor\":\"white\",\"linecolor\":\"white\",\"ticks\":\"\",\"title\":{\"standoff\":15},\"zerolinecolor\":\"white\",\"automargin\":true,\"zerolinewidth\":2},\"scene\":{\"xaxis\":{\"backgroundcolor\":\"#E5ECF6\",\"gridcolor\":\"white\",\"linecolor\":\"white\",\"showbackground\":true,\"ticks\":\"\",\"zerolinecolor\":\"white\",\"gridwidth\":2},\"yaxis\":{\"backgroundcolor\":\"#E5ECF6\",\"gridcolor\":\"white\",\"linecolor\":\"white\",\"showbackground\":true,\"ticks\":\"\",\"zerolinecolor\":\"white\",\"gridwidth\":2},\"zaxis\":{\"backgroundcolor\":\"#E5ECF6\",\"gridcolor\":\"white\",\"linecolor\":\"white\",\"showbackground\":true,\"ticks\":\"\",\"zerolinecolor\":\"white\",\"gridwidth\":2}},\"shapedefaults\":{\"line\":{\"color\":\"#2a3f5f\"}},\"annotationdefaults\":{\"arrowcolor\":\"#2a3f5f\",\"arrowhead\":0,\"arrowwidth\":1},\"geo\":{\"bgcolor\":\"white\",\"landcolor\":\"#E5ECF6\",\"subunitcolor\":\"white\",\"showland\":true,\"showlakes\":true,\"lakecolor\":\"white\"},\"title\":{\"x\":0.05},\"mapbox\":{\"style\":\"light\"}}}},                        {\"responsive\": true}                    ).then(function(){\n",
              "                            \n",
              "var gd = document.getElementById('2c8f7462-ba3e-4f32-9111-a0afb462c8c2');\n",
              "var x = new MutationObserver(function (mutations, observer) {{\n",
              "        var display = window.getComputedStyle(gd).display;\n",
              "        if (!display || display === 'none') {{\n",
              "            console.log([gd, 'removed!']);\n",
              "            Plotly.purge(gd);\n",
              "            observer.disconnect();\n",
              "        }}\n",
              "}});\n",
              "\n",
              "// Listen for the removal of the full notebook cells\n",
              "var notebookContainer = gd.closest('#notebook-container');\n",
              "if (notebookContainer) {{\n",
              "    x.observe(notebookContainer, {childList: true});\n",
              "}}\n",
              "\n",
              "// Listen for the clearing of the current output cell\n",
              "var outputEl = gd.closest('.output');\n",
              "if (outputEl) {{\n",
              "    x.observe(outputEl, {childList: true});\n",
              "}}\n",
              "\n",
              "                        })                };                            </script>        </div>\n",
              "</body>\n",
              "</html>"
            ]
          },
          "metadata": {}
        }
      ],
      "source": [
        "''' Implement QR '''\n",
        "\n",
        "def gram_schmidt_qr(A):\n",
        "    \"\"\"\n",
        "    Perform QR decomposition using the Gram-Schmidt process.\n",
        "\n",
        "    Parameters:\n",
        "    - A (numpy.ndarray): A 2D matrix (m x n) to be decomposed, where m is the number of rows\n",
        "                          and n is the number of columns. The matrix should be of full column rank.\n",
        "\n",
        "    Returns:\n",
        "    - Q (numpy.ndarray): An m x n orthogonal matrix.\n",
        "    - R (numpy.ndarray): An n x n upper triangular matrix.\n",
        "    \"\"\"\n",
        "    m, n = A.shape\n",
        "    Q,R = np.zeros((m, n)), np.zeros((n, n))\n",
        "\n",
        "    for i in range(n):\n",
        "        Q[:, i] = A[:, i]\n",
        "        for j in range(i):\n",
        "            R[j, i] = np.dot(Q[:, j], A[:, i])\n",
        "            Q[:, i] -= R[j, i] * Q[:, j]\n",
        "        R[i, i] = np.linalg.norm(Q[:, i])\n",
        "        if R[i, i] != 0:\n",
        "            Q[:, i] /= R[i, i]\n",
        "    return Q, R\n",
        "\n",
        "def compute_null_space_qr(A, tol=1e-15):\n",
        "\n",
        "    \"\"\"\n",
        "    After performing the Gram-Schmidt process,\n",
        "    sort the columns of the Q matrix based on\n",
        "    their corresponding values in the R matrix.\n",
        "    Select the columns with smaller values in R\n",
        "    (below a given threshold) as the null space vectors.\n",
        "    Then, return the largest vector from the null space,\n",
        "    normalized to form a valid probability distribution.\n",
        "    \"\"\"\n",
        "\n",
        "    Q, R = gram_schmidt_qr(A.T)\n",
        "    null_space_indices = np.where(np.abs(np.diag(R)) < tol)[0]\n",
        "    null_space_vectors = Q[:, null_space_indices]\n",
        "\n",
        "    if null_space_vectors.shape[1] > 0:\n",
        "        largest_vector = np.abs(null_space_vectors[:, 0])\n",
        "        largest_vector /= np.sum(largest_vector)\n",
        "    else:\n",
        "        largest_vector = np.zeros(A.shape[0])\n",
        "\n",
        "    myProbs = dict(enumerate(largest_vector))\n",
        "    visualize_graph(graph, testMine=True, myProbs=myProbs)\n",
        "    visualize_graph(graph)\n",
        "\n",
        "    return myProbs\n",
        "\n",
        "null_space = compute_null_space_qr(normalizedTransitions - np.eye(adj.shape[0]))"
      ]
    }
  ],
  "metadata": {
    "kernelspec": {
      "display_name": "DL",
      "language": "python",
      "name": "python3"
    },
    "language_info": {
      "codemirror_mode": {
        "name": "ipython",
        "version": 3
      },
      "file_extension": ".py",
      "mimetype": "text/x-python",
      "name": "python",
      "nbconvert_exporter": "python",
      "pygments_lexer": "ipython3",
      "version": "3.11.0"
    },
    "colab": {
      "provenance": []
    }
  },
  "nbformat": 4,
  "nbformat_minor": 0
}